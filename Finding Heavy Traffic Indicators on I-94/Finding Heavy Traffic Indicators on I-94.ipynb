{
 "cells": [
  {
   "cell_type": "markdown",
   "id": "a2d85e2f",
   "metadata": {},
   "source": [
    "At the beginning of the course, we saw that there are two types of data visualization:\n",
    "\n",
    "* Exploratory data visualization: we build graphs for ourselves to explore data and find patterns.\n",
    "* Explanatory data visualization: we build graphs for others to communicate and explain the patterns we've found through exploring data.\n",
    "\n",
    "We're going to analyze a dataset about the westbound traffic on the I-94 Interstate highway.The goal of our analysis is to determine a few indicators of heavy traffic on I-94. These indicators can be weather type, time of the day, time of the week, etc. For instance, we may find out that the traffic is usually heavier in the summer or when it snows.\n",
    "\n"
   ]
  },
  {
   "cell_type": "code",
   "execution_count": 1,
   "id": "db589781",
   "metadata": {},
   "outputs": [],
   "source": [
    "import pandas as pd\n",
    "import numpy as np\n",
    "import matplotlib.pyplot as plt\n",
    "import seaborn as sns\n",
    "%matplotlib inline"
   ]
  },
  {
   "cell_type": "code",
   "execution_count": 2,
   "id": "ac64c0c9",
   "metadata": {},
   "outputs": [],
   "source": [
    "metro_traffic= pd.read_csv('Metro_Interstate_Traffic_Volume.csv.gz')"
   ]
  },
  {
   "cell_type": "code",
   "execution_count": 3,
   "id": "3e948229",
   "metadata": {},
   "outputs": [
    {
     "data": {
      "text/html": [
       "<div>\n",
       "<style scoped>\n",
       "    .dataframe tbody tr th:only-of-type {\n",
       "        vertical-align: middle;\n",
       "    }\n",
       "\n",
       "    .dataframe tbody tr th {\n",
       "        vertical-align: top;\n",
       "    }\n",
       "\n",
       "    .dataframe thead th {\n",
       "        text-align: right;\n",
       "    }\n",
       "</style>\n",
       "<table border=\"1\" class=\"dataframe\">\n",
       "  <thead>\n",
       "    <tr style=\"text-align: right;\">\n",
       "      <th></th>\n",
       "      <th>holiday</th>\n",
       "      <th>temp</th>\n",
       "      <th>rain_1h</th>\n",
       "      <th>snow_1h</th>\n",
       "      <th>clouds_all</th>\n",
       "      <th>weather_main</th>\n",
       "      <th>weather_description</th>\n",
       "      <th>date_time</th>\n",
       "      <th>traffic_volume</th>\n",
       "    </tr>\n",
       "  </thead>\n",
       "  <tbody>\n",
       "    <tr>\n",
       "      <th>0</th>\n",
       "      <td>None</td>\n",
       "      <td>288.28</td>\n",
       "      <td>0.0</td>\n",
       "      <td>0.0</td>\n",
       "      <td>40</td>\n",
       "      <td>Clouds</td>\n",
       "      <td>scattered clouds</td>\n",
       "      <td>2012-10-02 09:00:00</td>\n",
       "      <td>5545</td>\n",
       "    </tr>\n",
       "    <tr>\n",
       "      <th>1</th>\n",
       "      <td>None</td>\n",
       "      <td>289.36</td>\n",
       "      <td>0.0</td>\n",
       "      <td>0.0</td>\n",
       "      <td>75</td>\n",
       "      <td>Clouds</td>\n",
       "      <td>broken clouds</td>\n",
       "      <td>2012-10-02 10:00:00</td>\n",
       "      <td>4516</td>\n",
       "    </tr>\n",
       "    <tr>\n",
       "      <th>2</th>\n",
       "      <td>None</td>\n",
       "      <td>289.58</td>\n",
       "      <td>0.0</td>\n",
       "      <td>0.0</td>\n",
       "      <td>90</td>\n",
       "      <td>Clouds</td>\n",
       "      <td>overcast clouds</td>\n",
       "      <td>2012-10-02 11:00:00</td>\n",
       "      <td>4767</td>\n",
       "    </tr>\n",
       "    <tr>\n",
       "      <th>3</th>\n",
       "      <td>None</td>\n",
       "      <td>290.13</td>\n",
       "      <td>0.0</td>\n",
       "      <td>0.0</td>\n",
       "      <td>90</td>\n",
       "      <td>Clouds</td>\n",
       "      <td>overcast clouds</td>\n",
       "      <td>2012-10-02 12:00:00</td>\n",
       "      <td>5026</td>\n",
       "    </tr>\n",
       "    <tr>\n",
       "      <th>4</th>\n",
       "      <td>None</td>\n",
       "      <td>291.14</td>\n",
       "      <td>0.0</td>\n",
       "      <td>0.0</td>\n",
       "      <td>75</td>\n",
       "      <td>Clouds</td>\n",
       "      <td>broken clouds</td>\n",
       "      <td>2012-10-02 13:00:00</td>\n",
       "      <td>4918</td>\n",
       "    </tr>\n",
       "  </tbody>\n",
       "</table>\n",
       "</div>"
      ],
      "text/plain": [
       "  holiday    temp  rain_1h  snow_1h  clouds_all weather_main  \\\n",
       "0    None  288.28      0.0      0.0          40       Clouds   \n",
       "1    None  289.36      0.0      0.0          75       Clouds   \n",
       "2    None  289.58      0.0      0.0          90       Clouds   \n",
       "3    None  290.13      0.0      0.0          90       Clouds   \n",
       "4    None  291.14      0.0      0.0          75       Clouds   \n",
       "\n",
       "  weather_description            date_time  traffic_volume  \n",
       "0    scattered clouds  2012-10-02 09:00:00            5545  \n",
       "1       broken clouds  2012-10-02 10:00:00            4516  \n",
       "2     overcast clouds  2012-10-02 11:00:00            4767  \n",
       "3     overcast clouds  2012-10-02 12:00:00            5026  \n",
       "4       broken clouds  2012-10-02 13:00:00            4918  "
      ]
     },
     "execution_count": 3,
     "metadata": {},
     "output_type": "execute_result"
    }
   ],
   "source": [
    "metro_traffic.head()"
   ]
  },
  {
   "cell_type": "code",
   "execution_count": 4,
   "id": "b74b9d5d",
   "metadata": {},
   "outputs": [
    {
     "data": {
      "text/html": [
       "<div>\n",
       "<style scoped>\n",
       "    .dataframe tbody tr th:only-of-type {\n",
       "        vertical-align: middle;\n",
       "    }\n",
       "\n",
       "    .dataframe tbody tr th {\n",
       "        vertical-align: top;\n",
       "    }\n",
       "\n",
       "    .dataframe thead th {\n",
       "        text-align: right;\n",
       "    }\n",
       "</style>\n",
       "<table border=\"1\" class=\"dataframe\">\n",
       "  <thead>\n",
       "    <tr style=\"text-align: right;\">\n",
       "      <th></th>\n",
       "      <th>holiday</th>\n",
       "      <th>temp</th>\n",
       "      <th>rain_1h</th>\n",
       "      <th>snow_1h</th>\n",
       "      <th>clouds_all</th>\n",
       "      <th>weather_main</th>\n",
       "      <th>weather_description</th>\n",
       "      <th>date_time</th>\n",
       "      <th>traffic_volume</th>\n",
       "    </tr>\n",
       "  </thead>\n",
       "  <tbody>\n",
       "    <tr>\n",
       "      <th>48199</th>\n",
       "      <td>None</td>\n",
       "      <td>283.45</td>\n",
       "      <td>0.0</td>\n",
       "      <td>0.0</td>\n",
       "      <td>75</td>\n",
       "      <td>Clouds</td>\n",
       "      <td>broken clouds</td>\n",
       "      <td>2018-09-30 19:00:00</td>\n",
       "      <td>3543</td>\n",
       "    </tr>\n",
       "    <tr>\n",
       "      <th>48200</th>\n",
       "      <td>None</td>\n",
       "      <td>282.76</td>\n",
       "      <td>0.0</td>\n",
       "      <td>0.0</td>\n",
       "      <td>90</td>\n",
       "      <td>Clouds</td>\n",
       "      <td>overcast clouds</td>\n",
       "      <td>2018-09-30 20:00:00</td>\n",
       "      <td>2781</td>\n",
       "    </tr>\n",
       "    <tr>\n",
       "      <th>48201</th>\n",
       "      <td>None</td>\n",
       "      <td>282.73</td>\n",
       "      <td>0.0</td>\n",
       "      <td>0.0</td>\n",
       "      <td>90</td>\n",
       "      <td>Thunderstorm</td>\n",
       "      <td>proximity thunderstorm</td>\n",
       "      <td>2018-09-30 21:00:00</td>\n",
       "      <td>2159</td>\n",
       "    </tr>\n",
       "    <tr>\n",
       "      <th>48202</th>\n",
       "      <td>None</td>\n",
       "      <td>282.09</td>\n",
       "      <td>0.0</td>\n",
       "      <td>0.0</td>\n",
       "      <td>90</td>\n",
       "      <td>Clouds</td>\n",
       "      <td>overcast clouds</td>\n",
       "      <td>2018-09-30 22:00:00</td>\n",
       "      <td>1450</td>\n",
       "    </tr>\n",
       "    <tr>\n",
       "      <th>48203</th>\n",
       "      <td>None</td>\n",
       "      <td>282.12</td>\n",
       "      <td>0.0</td>\n",
       "      <td>0.0</td>\n",
       "      <td>90</td>\n",
       "      <td>Clouds</td>\n",
       "      <td>overcast clouds</td>\n",
       "      <td>2018-09-30 23:00:00</td>\n",
       "      <td>954</td>\n",
       "    </tr>\n",
       "  </tbody>\n",
       "</table>\n",
       "</div>"
      ],
      "text/plain": [
       "      holiday    temp  rain_1h  snow_1h  clouds_all  weather_main  \\\n",
       "48199    None  283.45      0.0      0.0          75        Clouds   \n",
       "48200    None  282.76      0.0      0.0          90        Clouds   \n",
       "48201    None  282.73      0.0      0.0          90  Thunderstorm   \n",
       "48202    None  282.09      0.0      0.0          90        Clouds   \n",
       "48203    None  282.12      0.0      0.0          90        Clouds   \n",
       "\n",
       "          weather_description            date_time  traffic_volume  \n",
       "48199           broken clouds  2018-09-30 19:00:00            3543  \n",
       "48200         overcast clouds  2018-09-30 20:00:00            2781  \n",
       "48201  proximity thunderstorm  2018-09-30 21:00:00            2159  \n",
       "48202         overcast clouds  2018-09-30 22:00:00            1450  \n",
       "48203         overcast clouds  2018-09-30 23:00:00             954  "
      ]
     },
     "execution_count": 4,
     "metadata": {},
     "output_type": "execute_result"
    }
   ],
   "source": [
    "metro_traffic.tail()"
   ]
  },
  {
   "cell_type": "code",
   "execution_count": 5,
   "id": "dfd010e2",
   "metadata": {},
   "outputs": [
    {
     "name": "stdout",
     "output_type": "stream",
     "text": [
      "<class 'pandas.core.frame.DataFrame'>\n",
      "RangeIndex: 48204 entries, 0 to 48203\n",
      "Data columns (total 9 columns):\n",
      " #   Column               Non-Null Count  Dtype  \n",
      "---  ------               --------------  -----  \n",
      " 0   holiday              48204 non-null  object \n",
      " 1   temp                 48204 non-null  float64\n",
      " 2   rain_1h              48204 non-null  float64\n",
      " 3   snow_1h              48204 non-null  float64\n",
      " 4   clouds_all           48204 non-null  int64  \n",
      " 5   weather_main         48204 non-null  object \n",
      " 6   weather_description  48204 non-null  object \n",
      " 7   date_time            48204 non-null  object \n",
      " 8   traffic_volume       48204 non-null  int64  \n",
      "dtypes: float64(3), int64(2), object(4)\n",
      "memory usage: 3.3+ MB\n"
     ]
    }
   ],
   "source": [
    "metro_traffic.info()"
   ]
  },
  {
   "cell_type": "code",
   "execution_count": 6,
   "id": "b3a20204",
   "metadata": {},
   "outputs": [
    {
     "data": {
      "text/html": [
       "<div>\n",
       "<style scoped>\n",
       "    .dataframe tbody tr th:only-of-type {\n",
       "        vertical-align: middle;\n",
       "    }\n",
       "\n",
       "    .dataframe tbody tr th {\n",
       "        vertical-align: top;\n",
       "    }\n",
       "\n",
       "    .dataframe thead th {\n",
       "        text-align: right;\n",
       "    }\n",
       "</style>\n",
       "<table border=\"1\" class=\"dataframe\">\n",
       "  <thead>\n",
       "    <tr style=\"text-align: right;\">\n",
       "      <th></th>\n",
       "      <th>holiday</th>\n",
       "      <th>temp</th>\n",
       "      <th>rain_1h</th>\n",
       "      <th>snow_1h</th>\n",
       "      <th>clouds_all</th>\n",
       "      <th>weather_main</th>\n",
       "      <th>weather_description</th>\n",
       "      <th>date_time</th>\n",
       "      <th>traffic_volume</th>\n",
       "    </tr>\n",
       "  </thead>\n",
       "  <tbody>\n",
       "    <tr>\n",
       "      <th>count</th>\n",
       "      <td>48204</td>\n",
       "      <td>48204.000000</td>\n",
       "      <td>48204.000000</td>\n",
       "      <td>48204.000000</td>\n",
       "      <td>48204.000000</td>\n",
       "      <td>48204</td>\n",
       "      <td>48204</td>\n",
       "      <td>48204</td>\n",
       "      <td>48204.000000</td>\n",
       "    </tr>\n",
       "    <tr>\n",
       "      <th>unique</th>\n",
       "      <td>12</td>\n",
       "      <td>NaN</td>\n",
       "      <td>NaN</td>\n",
       "      <td>NaN</td>\n",
       "      <td>NaN</td>\n",
       "      <td>11</td>\n",
       "      <td>38</td>\n",
       "      <td>40575</td>\n",
       "      <td>NaN</td>\n",
       "    </tr>\n",
       "    <tr>\n",
       "      <th>top</th>\n",
       "      <td>None</td>\n",
       "      <td>NaN</td>\n",
       "      <td>NaN</td>\n",
       "      <td>NaN</td>\n",
       "      <td>NaN</td>\n",
       "      <td>Clouds</td>\n",
       "      <td>sky is clear</td>\n",
       "      <td>2013-05-19 10:00:00</td>\n",
       "      <td>NaN</td>\n",
       "    </tr>\n",
       "    <tr>\n",
       "      <th>freq</th>\n",
       "      <td>48143</td>\n",
       "      <td>NaN</td>\n",
       "      <td>NaN</td>\n",
       "      <td>NaN</td>\n",
       "      <td>NaN</td>\n",
       "      <td>15164</td>\n",
       "      <td>11665</td>\n",
       "      <td>6</td>\n",
       "      <td>NaN</td>\n",
       "    </tr>\n",
       "    <tr>\n",
       "      <th>mean</th>\n",
       "      <td>NaN</td>\n",
       "      <td>281.205870</td>\n",
       "      <td>0.334264</td>\n",
       "      <td>0.000222</td>\n",
       "      <td>49.362231</td>\n",
       "      <td>NaN</td>\n",
       "      <td>NaN</td>\n",
       "      <td>NaN</td>\n",
       "      <td>3259.818355</td>\n",
       "    </tr>\n",
       "    <tr>\n",
       "      <th>std</th>\n",
       "      <td>NaN</td>\n",
       "      <td>13.338232</td>\n",
       "      <td>44.789133</td>\n",
       "      <td>0.008168</td>\n",
       "      <td>39.015750</td>\n",
       "      <td>NaN</td>\n",
       "      <td>NaN</td>\n",
       "      <td>NaN</td>\n",
       "      <td>1986.860670</td>\n",
       "    </tr>\n",
       "    <tr>\n",
       "      <th>min</th>\n",
       "      <td>NaN</td>\n",
       "      <td>0.000000</td>\n",
       "      <td>0.000000</td>\n",
       "      <td>0.000000</td>\n",
       "      <td>0.000000</td>\n",
       "      <td>NaN</td>\n",
       "      <td>NaN</td>\n",
       "      <td>NaN</td>\n",
       "      <td>0.000000</td>\n",
       "    </tr>\n",
       "    <tr>\n",
       "      <th>25%</th>\n",
       "      <td>NaN</td>\n",
       "      <td>272.160000</td>\n",
       "      <td>0.000000</td>\n",
       "      <td>0.000000</td>\n",
       "      <td>1.000000</td>\n",
       "      <td>NaN</td>\n",
       "      <td>NaN</td>\n",
       "      <td>NaN</td>\n",
       "      <td>1193.000000</td>\n",
       "    </tr>\n",
       "    <tr>\n",
       "      <th>50%</th>\n",
       "      <td>NaN</td>\n",
       "      <td>282.450000</td>\n",
       "      <td>0.000000</td>\n",
       "      <td>0.000000</td>\n",
       "      <td>64.000000</td>\n",
       "      <td>NaN</td>\n",
       "      <td>NaN</td>\n",
       "      <td>NaN</td>\n",
       "      <td>3380.000000</td>\n",
       "    </tr>\n",
       "    <tr>\n",
       "      <th>75%</th>\n",
       "      <td>NaN</td>\n",
       "      <td>291.806000</td>\n",
       "      <td>0.000000</td>\n",
       "      <td>0.000000</td>\n",
       "      <td>90.000000</td>\n",
       "      <td>NaN</td>\n",
       "      <td>NaN</td>\n",
       "      <td>NaN</td>\n",
       "      <td>4933.000000</td>\n",
       "    </tr>\n",
       "    <tr>\n",
       "      <th>max</th>\n",
       "      <td>NaN</td>\n",
       "      <td>310.070000</td>\n",
       "      <td>9831.300000</td>\n",
       "      <td>0.510000</td>\n",
       "      <td>100.000000</td>\n",
       "      <td>NaN</td>\n",
       "      <td>NaN</td>\n",
       "      <td>NaN</td>\n",
       "      <td>7280.000000</td>\n",
       "    </tr>\n",
       "  </tbody>\n",
       "</table>\n",
       "</div>"
      ],
      "text/plain": [
       "       holiday          temp       rain_1h       snow_1h    clouds_all  \\\n",
       "count    48204  48204.000000  48204.000000  48204.000000  48204.000000   \n",
       "unique      12           NaN           NaN           NaN           NaN   \n",
       "top       None           NaN           NaN           NaN           NaN   \n",
       "freq     48143           NaN           NaN           NaN           NaN   \n",
       "mean       NaN    281.205870      0.334264      0.000222     49.362231   \n",
       "std        NaN     13.338232     44.789133      0.008168     39.015750   \n",
       "min        NaN      0.000000      0.000000      0.000000      0.000000   \n",
       "25%        NaN    272.160000      0.000000      0.000000      1.000000   \n",
       "50%        NaN    282.450000      0.000000      0.000000     64.000000   \n",
       "75%        NaN    291.806000      0.000000      0.000000     90.000000   \n",
       "max        NaN    310.070000   9831.300000      0.510000    100.000000   \n",
       "\n",
       "       weather_main weather_description            date_time  traffic_volume  \n",
       "count         48204               48204                48204    48204.000000  \n",
       "unique           11                  38                40575             NaN  \n",
       "top          Clouds        sky is clear  2013-05-19 10:00:00             NaN  \n",
       "freq          15164               11665                    6             NaN  \n",
       "mean            NaN                 NaN                  NaN     3259.818355  \n",
       "std             NaN                 NaN                  NaN     1986.860670  \n",
       "min             NaN                 NaN                  NaN        0.000000  \n",
       "25%             NaN                 NaN                  NaN     1193.000000  \n",
       "50%             NaN                 NaN                  NaN     3380.000000  \n",
       "75%             NaN                 NaN                  NaN     4933.000000  \n",
       "max             NaN                 NaN                  NaN     7280.000000  "
      ]
     },
     "execution_count": 6,
     "metadata": {},
     "output_type": "execute_result"
    }
   ],
   "source": [
    "metro_traffic.describe(include='all')"
   ]
  },
  {
   "cell_type": "markdown",
   "id": "81f38304",
   "metadata": {},
   "source": [
    "## Instruction:\n",
    "\n",
    "* Add the %matplotlib inline magic.\n",
    "* Plot a histogram to examine the distribution of the traffic_volume column. Use a Pandas method.\n",
    "* Use `Series.describe()` to look up a few statistics about the traffic_volume column.\n",
    "* Note a few observations about the distribution of traffic_volume based on the histogram and the result of `Series.describe()`.\n",
    "* Do you think daytime and nighttime influence the traffic volume?"
   ]
  },
  {
   "cell_type": "code",
   "execution_count": 7,
   "id": "2dddb32b",
   "metadata": {},
   "outputs": [
    {
     "data": {
      "text/plain": [
       "count    48204.000000\n",
       "mean      3259.818355\n",
       "std       1986.860670\n",
       "min          0.000000\n",
       "25%       1193.000000\n",
       "50%       3380.000000\n",
       "75%       4933.000000\n",
       "max       7280.000000\n",
       "Name: traffic_volume, dtype: float64"
      ]
     },
     "execution_count": 7,
     "metadata": {},
     "output_type": "execute_result"
    }
   ],
   "source": [
    "metro_traffic['traffic_volume'].describe()"
   ]
  },
  {
   "cell_type": "code",
   "execution_count": 8,
   "id": "32adfb27",
   "metadata": {},
   "outputs": [
    {
     "data": {
      "image/png": "[encoded data removed]",
      "text/plain": [
       "<Figure size 1440x360 with 3 Axes>"
      ]
     },
     "metadata": {
      "needs_background": "light"
     },
     "output_type": "display_data"
    }
   ],
   "source": [
    "# Resize the chart, and have two plots side-by-side\n",
    "# Set a larger figure size for subplots\n",
    "plt.figure(figsize = [20, 5]) \n",
    "\n",
    "# histogram on left, example of too-large bin size\n",
    "# 1 row, 3 cols, subplot 1\n",
    "plt.subplot(1, 3, 1) \n",
    "bins = np.arange(0, metro_traffic['traffic_volume'].max()+4, 4)\n",
    "plt.hist(data = metro_traffic, x = 'traffic_volume', bins = bins)\n",
    "plt.title('Traffic volume')\n",
    "\n",
    "# histogram on right, example of too-small bin size\n",
    "plt.subplot(1, 3, 2) # 1 row, 3 cols, subplot 2\n",
    "plt.hist(metro_traffic['traffic_volume'])\n",
    "plt.title('Traffic volume')\n",
    "\n",
    "# histogram on right, example of too-small bin size\n",
    "plt.subplot(1, 3, 3) # 1 row, 3 cols, subplot 3\n",
    "plt.hist(data = metro_traffic, x = 'traffic_volume', bins = 20)\n",
    "plt.title('Traffic volume');"
   ]
  },
  {
   "cell_type": "markdown",
   "id": "1de5d0a8",
   "metadata": {},
   "source": [
    "from the histogram, we can come up with the following deductions:\n",
    "* the histogram is normally distributed.\n",
    "* there are three peaks which tells us that in most cases, the highest traffic was caused when 900-1600 cars, 3000-4000 cars, 5000-6000 cars were passing through the station in each hour.\n",
    "\n",
    "from the `describe` i can see;\n",
    "* About 25% of the time, there were 1,193 cars or fewer passing the station each hour — this probably occurs during the night, or when a road is under construction.\n",
    "* About 75% of the time, the traffic volume was four times as much (4,933 cars or more).\n",
    "\n",
    "\n",
    "This possibility that nighttime and daytime might influence traffic volume gives our analysis an interesting direction: comparing daytime with nighttime data.\n",
    "\n",
    "We'll start by dividing the dataset into two parts:\n",
    "\n",
    "* Daytime data: hours from 7 a.m. to 7 p.m. (12 hours)\n",
    "* Nighttime data: hours from 7 p.m. to 7 a.m. (12 hours)\n",
    "\n",
    "While this is not a perfect criterion for distinguishing between nighttime and daytime, it's a good starting point."
   ]
  },
  {
   "cell_type": "markdown",
   "id": "50e49073",
   "metadata": {},
   "source": [
    "## instructions:\n",
    "\n",
    "* Transform the date_time column to datetime by using the function `pd.to_datetime()`.\n",
    "* Use the `Series.dt.hour` property to get the hour of every instance of the `date_time column` and do the following:\n",
    "* Isolate the daytime data.\n",
    "* Isolate the nighttime data."
   ]
  },
  {
   "cell_type": "code",
   "execution_count": 9,
   "id": "138baf9c",
   "metadata": {},
   "outputs": [],
   "source": [
    "#convert the date to date time \n",
    "import datetime as dt\n",
    "metro_traffic['date_time']=pd.to_datetime(metro_traffic['date_time'])"
   ]
  },
  {
   "cell_type": "code",
   "execution_count": 10,
   "id": "b358b2cd",
   "metadata": {},
   "outputs": [],
   "source": [
    "date_time_hr=metro_traffic['date_time'].dt.hour\n",
    "\n",
    "metro_traffic_copy=metro_traffic.copy()\n",
    "#we applied this change in the copy so that it wont be refelected in our original dataframe\n",
    "day = metro_traffic_copy[(date_time_hr >= 7) & (date_time_hr < 19)] \n",
    "\n",
    "night = metro_traffic_copy[(date_time_hr >= 19) | (date_time_hr < 7)]\n"
   ]
  },
  {
   "cell_type": "markdown",
   "id": "4450e163",
   "metadata": {},
   "source": [
    "Previously, we divided the dataset into two parts:\n",
    "\n",
    "* Daytime data: hours from 7 AM to 7 PM (12 hours)\n",
    "* Nighttime data: hours from 7 PM to 7 AM (12 hours)\n",
    "\n",
    "Now we're going to compare the traffic volume at night and during day."
   ]
  },
  {
   "cell_type": "markdown",
   "id": "c829e2fe",
   "metadata": {},
   "source": [
    "## Instructions\n",
    "\n",
    "* Plot the histograms of traffic_volume for both day and night. Organize the two histograms side-by-side on a grid chart.\n",
    "\n",
    "For both histograms, do the following:\n",
    "* Add a title.\n",
    "* Add x- and y-labels.\n",
    "\n",
    "* Bring the x- and the y-axis to the same ranges (this will help you compare the histograms correctly).\n",
    "\n",
    "* Use Series.describe() to look up a few statistics for traffic_volume for both day and night.\n",
    "* Analyze the results:\n",
    "  * What shape do the histograms have and what does that indicate?\n",
    "  *  the traffic is light at night, and our goal is to find indicators of heavy traffic, should we still be using the nighttime data?"
   ]
  },
  {
   "cell_type": "code",
   "execution_count": 11,
   "id": "16c1d313",
   "metadata": {},
   "outputs": [
    {
     "data": {
      "image/png": "[encoded data removed]",
      "text/plain": [
       "<Figure size 1440x360 with 2 Axes>"
      ]
     },
     "metadata": {
      "needs_background": "light"
     },
     "output_type": "display_data"
    }
   ],
   "source": [
    "plt.figure(figsize = [20, 5]) \n",
    "\n",
    "# 1 row, 2 cols, subplot 1\n",
    "plt.subplot(1, 2, 1) \n",
    "plt.hist(data = day, x = 'traffic_volume', bins = 20)\n",
    "plt.xlim(-100, 7500)\n",
    "plt.ylim(0, 8000)\n",
    "plt.xlabel('Traffic Volume')\n",
    "plt.ylabel('Frequency')\n",
    "plt.title('Traffic volume: Day');\n",
    "\n",
    "# 1 row, 2 cols, subplot 2\n",
    "plt.subplot(1, 2, 2) \n",
    "plt.hist(data = night, x = 'traffic_volume', bins = 20)\n",
    "plt.xlim(-100, 7500)\n",
    "plt.ylim(0, 8000)\n",
    "plt.xlabel('Traffic Volume')\n",
    "plt.ylabel('Frequency')\n",
    "plt.title('Traffic volume: Night');"
   ]
  },
  {
   "cell_type": "code",
   "execution_count": 12,
   "id": "90e4b4e4",
   "metadata": {},
   "outputs": [
    {
     "name": "stdout",
     "output_type": "stream",
     "text": [
      "count    23877.000000\n",
      "mean      4762.047452\n",
      "std       1174.546482\n",
      "min          0.000000\n",
      "25%       4252.000000\n",
      "50%       4820.000000\n",
      "75%       5559.000000\n",
      "max       7280.000000\n",
      "Name: traffic_volume, dtype: float64\n",
      "\n",
      "\n",
      "count    24327.000000\n",
      "mean      1785.377441\n",
      "std       1441.951197\n",
      "min          0.000000\n",
      "25%        530.000000\n",
      "50%       1287.000000\n",
      "75%       2819.000000\n",
      "max       6386.000000\n",
      "Name: traffic_volume, dtype: float64\n"
     ]
    }
   ],
   "source": [
    "print(day['traffic_volume'].describe())\n",
    "print('\\n')\n",
    "print(night['traffic_volume'].describe())"
   ]
  },
  {
   "cell_type": "markdown",
   "id": "05987b5d",
   "metadata": {},
   "source": [
    "from the above visualization, I observed the folowing:\n",
    "\n",
    "* there seem to be more traffic in the day than there are in the night.\n",
    "* most of the times, there are no fewer than 5000 cars on that route\n",
    "* the traffic volume in the night isnt much, at most, there are no fewer than 1000 cars moving on taht route per hour\n",
    "\n",
    "\n",
    "we have determined that the traffic at night is generally light. Our goal is to find indicators of heavy traffic, so we decided to only focus on the daytime data moving forward.\n",
    "\n",
    "One of the possible indicators of heavy traffic is time. There might be more people on the road in a certain month, on a certain day, or at a certain time of the day.\n",
    "\n",
    "We're going to look at a few line plots showing how the traffic volume changed according to the following parameters:\n",
    "\n",
    "* Month\n",
    "* Day of the week\n",
    "* Time of day"
   ]
  },
  {
   "cell_type": "markdown",
   "id": "a4f13085",
   "metadata": {},
   "source": [
    "The fastest way to get the average traffic volume for each month is by using the `DataFrame.groupby()` method. \n",
    "\n",
    "In the code below, we'll do the following:\n",
    "\n",
    "* Use `day['date_time'].dt.month` to create a new column where each value describes the month when the traffic volume measurement was taken.\n",
    "* Use `day.groupby('month').mean()` to group the dataset by the month column with the mean as an aggregate function."
   ]
  },
  {
   "cell_type": "code",
   "execution_count": 13,
   "id": "be0c7739",
   "metadata": {},
   "outputs": [
    {
     "data": {
      "text/html": [
       "<div>\n",
       "<style scoped>\n",
       "    .dataframe tbody tr th:only-of-type {\n",
       "        vertical-align: middle;\n",
       "    }\n",
       "\n",
       "    .dataframe tbody tr th {\n",
       "        vertical-align: top;\n",
       "    }\n",
       "\n",
       "    .dataframe thead th {\n",
       "        text-align: right;\n",
       "    }\n",
       "</style>\n",
       "<table border=\"1\" class=\"dataframe\">\n",
       "  <thead>\n",
       "    <tr style=\"text-align: right;\">\n",
       "      <th></th>\n",
       "      <th>holiday</th>\n",
       "      <th>temp</th>\n",
       "      <th>rain_1h</th>\n",
       "      <th>snow_1h</th>\n",
       "      <th>clouds_all</th>\n",
       "      <th>weather_main</th>\n",
       "      <th>weather_description</th>\n",
       "      <th>date_time</th>\n",
       "      <th>traffic_volume</th>\n",
       "    </tr>\n",
       "  </thead>\n",
       "  <tbody>\n",
       "    <tr>\n",
       "      <th>0</th>\n",
       "      <td>None</td>\n",
       "      <td>288.28</td>\n",
       "      <td>0.0</td>\n",
       "      <td>0.0</td>\n",
       "      <td>40</td>\n",
       "      <td>Clouds</td>\n",
       "      <td>scattered clouds</td>\n",
       "      <td>2012-10-02 09:00:00</td>\n",
       "      <td>5545</td>\n",
       "    </tr>\n",
       "    <tr>\n",
       "      <th>1</th>\n",
       "      <td>None</td>\n",
       "      <td>289.36</td>\n",
       "      <td>0.0</td>\n",
       "      <td>0.0</td>\n",
       "      <td>75</td>\n",
       "      <td>Clouds</td>\n",
       "      <td>broken clouds</td>\n",
       "      <td>2012-10-02 10:00:00</td>\n",
       "      <td>4516</td>\n",
       "    </tr>\n",
       "    <tr>\n",
       "      <th>2</th>\n",
       "      <td>None</td>\n",
       "      <td>289.58</td>\n",
       "      <td>0.0</td>\n",
       "      <td>0.0</td>\n",
       "      <td>90</td>\n",
       "      <td>Clouds</td>\n",
       "      <td>overcast clouds</td>\n",
       "      <td>2012-10-02 11:00:00</td>\n",
       "      <td>4767</td>\n",
       "    </tr>\n",
       "  </tbody>\n",
       "</table>\n",
       "</div>"
      ],
      "text/plain": [
       "  holiday    temp  rain_1h  snow_1h  clouds_all weather_main  \\\n",
       "0    None  288.28      0.0      0.0          40       Clouds   \n",
       "1    None  289.36      0.0      0.0          75       Clouds   \n",
       "2    None  289.58      0.0      0.0          90       Clouds   \n",
       "\n",
       "  weather_description           date_time  traffic_volume  \n",
       "0    scattered clouds 2012-10-02 09:00:00            5545  \n",
       "1       broken clouds 2012-10-02 10:00:00            4516  \n",
       "2     overcast clouds 2012-10-02 11:00:00            4767  "
      ]
     },
     "execution_count": 13,
     "metadata": {},
     "output_type": "execute_result"
    }
   ],
   "source": [
    "metro_traffic.head(3)"
   ]
  },
  {
   "cell_type": "code",
   "execution_count": 14,
   "id": "61e527f3",
   "metadata": {},
   "outputs": [
    {
     "name": "stderr",
     "output_type": "stream",
     "text": [
      "C:\\Users\\PC\\AppData\\Local\\Temp\\ipykernel_368\\3399633742.py:2: SettingWithCopyWarning: \n",
      "A value is trying to be set on a copy of a slice from a DataFrame.\n",
      "Try using .loc[row_indexer,col_indexer] = value instead\n",
      "\n",
      "See the caveats in the documentation: https://pandas.pydata.org/pandas-docs/stable/user_guide/indexing.html#returning-a-view-versus-a-copy\n",
      "  day['month']=day['date_time'].dt.month\n"
     ]
    }
   ],
   "source": [
    "#create a new column for month\n",
    "day['month']=day['date_time'].dt.month"
   ]
  },
  {
   "cell_type": "code",
   "execution_count": 15,
   "id": "ac3939c2",
   "metadata": {},
   "outputs": [
    {
     "name": "stderr",
     "output_type": "stream",
     "text": [
      "C:\\Users\\PC\\AppData\\Local\\Temp\\ipykernel_368\\1812722579.py:2: FutureWarning: The default value of numeric_only in DataFrameGroupBy.mean is deprecated. In a future version, numeric_only will default to False. Either specify numeric_only or select only columns which should be valid for the function.\n",
      "  by_month = day.groupby('month').mean()\n"
     ]
    },
    {
     "data": {
      "text/plain": [
       "month\n",
       "1     4495.613727\n",
       "2     4711.198394\n",
       "3     4889.409560\n",
       "4     4906.894305\n",
       "5     4911.121609\n",
       "6     4898.019566\n",
       "7     4595.035744\n",
       "8     4928.302035\n",
       "9     4870.783145\n",
       "10    4921.234922\n",
       "11    4704.094319\n",
       "12    4374.834566\n",
       "Name: traffic_volume, dtype: float64"
      ]
     },
     "execution_count": 15,
     "metadata": {},
     "output_type": "execute_result"
    }
   ],
   "source": [
    "#Use day.groupby('month').mean() to group the dataset by the month column with the mean as an aggregate function.\n",
    "by_month = day.groupby('month').mean()\n",
    "\n",
    "by_month['traffic_volume']"
   ]
  },
  {
   "cell_type": "markdown",
   "id": "03d3d05d",
   "metadata": {},
   "source": [
    "## Instruction:\n",
    "* Generate a line plot to visualize how the traffic volume changed each month on average.\n",
    "* Analyze the line plot. Do you notice any interesting exception?"
   ]
  },
  {
   "cell_type": "code",
   "execution_count": 28,
   "id": "2c86b160",
   "metadata": {},
   "outputs": [
    {
     "data": {
      "image/png": "[encoded data removed]",
      "text/plain": [
       "<Figure size 432x288 with 1 Axes>"
      ]
     },
     "metadata": {
      "needs_background": "light"
     },
     "output_type": "display_data"
    }
   ],
   "source": [
    "#plot line graph\n",
    "plt.plot(by_month['traffic_volume'])\n",
    "#plt.xlabel('Month')\n",
    "plt.ylabel('Frequency')\n",
    "plt.title('Traffic Volume: Month');"
   ]
  },
  {
   "cell_type": "markdown",
   "id": "4ff49ea6",
   "metadata": {},
   "source": [
    "* from our graph, we can see that there are low traffic volume in January, july and december. this could probably be because of the holidays\n",
    "* I can also see that the volume of cars on that route increased tremendously around late february, early september and october. \n",
    "\n",
    "\n",
    "lets go further to check the traffic volume in each day of the week. let's repeat the same process as we did for `month` column"
   ]
  },
  {
   "cell_type": "code",
   "execution_count": 17,
   "id": "cad1da17",
   "metadata": {},
   "outputs": [
    {
     "name": "stderr",
     "output_type": "stream",
     "text": [
      "C:\\Users\\PC\\AppData\\Local\\Temp\\ipykernel_368\\2109598012.py:1: SettingWithCopyWarning: \n",
      "A value is trying to be set on a copy of a slice from a DataFrame.\n",
      "Try using .loc[row_indexer,col_indexer] = value instead\n",
      "\n",
      "See the caveats in the documentation: https://pandas.pydata.org/pandas-docs/stable/user_guide/indexing.html#returning-a-view-versus-a-copy\n",
      "  day['dayofweek']=day['date_time'].dt.dayofweek\n",
      "C:\\Users\\PC\\AppData\\Local\\Temp\\ipykernel_368\\2109598012.py:3: FutureWarning: The default value of numeric_only in DataFrameGroupBy.mean is deprecated. In a future version, numeric_only will default to False. Either specify numeric_only or select only columns which should be valid for the function.\n",
      "  by_dayofweek=day.groupby('dayofweek').mean()\n"
     ]
    },
    {
     "data": {
      "text/plain": [
       "dayofweek\n",
       "0    4893.551286\n",
       "1    5189.004782\n",
       "2    5284.454282\n",
       "3    5311.303730\n",
       "4    5291.600829\n",
       "5    3927.249558\n",
       "6    3436.541789\n",
       "Name: traffic_volume, dtype: float64"
      ]
     },
     "execution_count": 17,
     "metadata": {},
     "output_type": "execute_result"
    }
   ],
   "source": [
    "day['dayofweek']=day['date_time'].dt.dayofweek\n",
    "\n",
    "by_dayofweek=day.groupby('dayofweek').mean()\n",
    "by_dayofweek['traffic_volume']\n",
    "# 0 is monday, 6 is Sunday"
   ]
  },
  {
   "cell_type": "code",
   "execution_count": 18,
   "id": "472b26b2",
   "metadata": {},
   "outputs": [
    {
     "data": {
      "image/png": "[encoded data removed]",
      "text/plain": [
       "<Figure size 432x288 with 1 Axes>"
      ]
     },
     "metadata": {
      "needs_background": "light"
     },
     "output_type": "display_data"
    }
   ],
   "source": [
    "#create a line plot\n",
    "\n",
    "plt.plot(by_dayofweek['traffic_volume']);"
   ]
  },
  {
   "cell_type": "markdown",
   "id": "98408f8c",
   "metadata": {},
   "source": [
    "from above, we can see that;\n",
    "* the least traffic occurs during the weekday and most tarffic occurs during the week. this makes sense becasue more people are going to work and other places during the week.\n",
    "* i can see that most traffic occurs on wednesdays and thursdays. This is an interesting observatiion becasue i'd expect mondays and tuesdays to have the most traffic since it is the start of a new work week."
   ]
  },
  {
   "cell_type": "markdown",
   "id": "65bbf355",
   "metadata": {},
   "source": [
    "We'll now generate a line plot for the time of day. The weekends, however, will drag down the average values, so we're going to look at the averages separately. To do that, we'll start by splitting the data based on the day type: business day or weekend."
   ]
  },
  {
   "cell_type": "code",
   "execution_count": 19,
   "id": "3babb1bc",
   "metadata": {},
   "outputs": [
    {
     "name": "stdout",
     "output_type": "stream",
     "text": [
      "hour\n",
      "7     6030.413559\n",
      "8     5503.497970\n",
      "9     4895.269257\n",
      "10    4378.419118\n",
      "11    4633.419470\n",
      "12    4855.382143\n",
      "13    4859.180473\n",
      "14    5152.995778\n",
      "15    5592.897768\n",
      "16    6189.473647\n",
      "17    5784.827133\n",
      "18    4434.209431\n",
      "Name: traffic_volume, dtype: float64\n",
      "\n",
      "\n",
      "hour\n",
      "7     1589.365894\n",
      "8     2338.578073\n",
      "9     3111.623917\n",
      "10    3686.632302\n",
      "11    4044.154955\n",
      "12    4372.482883\n",
      "13    4362.296564\n",
      "14    4358.543796\n",
      "15    4342.456881\n",
      "16    4339.693805\n",
      "17    4151.919929\n",
      "18    3811.792279\n",
      "Name: traffic_volume, dtype: float64\n"
     ]
    },
    {
     "name": "stderr",
     "output_type": "stream",
     "text": [
      "C:\\Users\\PC\\AppData\\Local\\Temp\\ipykernel_368\\3700938008.py:1: SettingWithCopyWarning: \n",
      "A value is trying to be set on a copy of a slice from a DataFrame.\n",
      "Try using .loc[row_indexer,col_indexer] = value instead\n",
      "\n",
      "See the caveats in the documentation: https://pandas.pydata.org/pandas-docs/stable/user_guide/indexing.html#returning-a-view-versus-a-copy\n",
      "  day['hour'] = day['date_time'].dt.hour\n",
      "C:\\Users\\PC\\AppData\\Local\\Temp\\ipykernel_368\\3700938008.py:4: FutureWarning: The default value of numeric_only in DataFrameGroupBy.mean is deprecated. In a future version, numeric_only will default to False. Either specify numeric_only or select only columns which should be valid for the function.\n",
      "  by_hour_business = business_days.groupby('hour').mean()\n",
      "C:\\Users\\PC\\AppData\\Local\\Temp\\ipykernel_368\\3700938008.py:5: FutureWarning: The default value of numeric_only in DataFrameGroupBy.mean is deprecated. In a future version, numeric_only will default to False. Either specify numeric_only or select only columns which should be valid for the function.\n",
      "  by_hour_weekend = weekend.groupby('hour').mean()\n"
     ]
    }
   ],
   "source": [
    "day['hour'] = day['date_time'].dt.hour\n",
    "business_days = day.copy()[day['dayofweek'] <= 4] # 4 == Friday\n",
    "weekend = day.copy()[day['dayofweek'] >= 5] # 5 == Saturday\n",
    "by_hour_business = business_days.groupby('hour').mean()\n",
    "by_hour_weekend = weekend.groupby('hour').mean()\n",
    "\n",
    "print(by_hour_business['traffic_volume'])\n",
    "print('\\n')\n",
    "print(by_hour_weekend['traffic_volume'])"
   ]
  },
  {
   "cell_type": "code",
   "execution_count": 20,
   "id": "b430815c",
   "metadata": {},
   "outputs": [
    {
     "data": {
      "image/png": "[encoded data removed]",
      "text/plain": [
       "<Figure size 1440x360 with 2 Axes>"
      ]
     },
     "metadata": {
      "needs_background": "light"
     },
     "output_type": "display_data"
    }
   ],
   "source": [
    "#lets plot the line graphs separately\n",
    "\n",
    "plt.figure(figsize = [20, 5]) \n",
    "\n",
    "plt.subplot(1,2,1)\n",
    "plt.plot(by_hour_business['traffic_volume'])\n",
    "plt.title('Traffic Volume : Hour (Business Days)')\n",
    "plt.xlabel('Hour')\n",
    "plt.ylabel('Frequency');\n",
    "\n",
    "plt.subplot(1,2,2)\n",
    "plt.plot(by_hour_weekend['traffic_volume'])\n",
    "plt.title('Traffic Volume : Hour (Weekends)')\n",
    "plt.xlabel('Hour')\n",
    "plt.ylabel('Frequency');\n"
   ]
  },
  {
   "cell_type": "markdown",
   "id": "18f15327",
   "metadata": {},
   "source": [
    "we made some interesting observations from our line graphs above:\n",
    "in business days;\n",
    "* we notice that the traffic is heavy during the early hours of the morning (7-8am) and drops drastically from 10am-11am. this is probably beacause there are a lot of people commuting to work around 7am-8am.\n",
    "* i also noticed that the traffic volume picks up from 3pm-4pm. this is probably this timeframe is usually the close of work and people are going home for the day. \n",
    "\n",
    "in the weekends;\n",
    "* i noticed that the traffic is light in the early hours of the morining and picks up around 11am-3pm. since it is the weekend, it is understandable thatb traffic is light in the morning. people are propbably resting or during some house chores, and around mid morning to afternoon, most people will want to step outside for one or two things..."
   ]
  },
  {
   "cell_type": "code",
   "execution_count": 21,
   "id": "4657d0f3",
   "metadata": {},
   "outputs": [
    {
     "data": {
      "image/png": "[encoded data removed]",
      "text/plain": [
       "<Figure size 432x288 with 1 Axes>"
      ]
     },
     "metadata": {
      "needs_background": "light"
     },
     "output_type": "display_data"
    }
   ],
   "source": [
    "#let's plot the graphs together\n",
    "\n",
    "plt.plot(by_hour_business['traffic_volume'],label='Hour (Business Days)')\n",
    "plt.plot(by_hour_weekend['traffic_volume'],label='Hour (Weekends)')\n",
    "plt.legend();\n",
    "plt.title('Traffic Volume : Hour')\n",
    "plt.xlabel('Hour')\n",
    "plt.ylabel('Frequency');\n"
   ]
  },
  {
   "cell_type": "markdown",
   "id": "5af21994",
   "metadata": {},
   "source": [
    "So far, we've focused on finding time indicators for heavy traffic, and we reached the following conclusions:\n",
    "\n",
    "* The traffic is usually heavier during warm months (March–October) compared to cold months (November–February).\n",
    "* The traffic is usually heavier on business days compared to weekends.\n",
    "* On business days, the rush hours are around 7 and 16.\n",
    "\n",
    "Another possible indicator of heavy traffic is weather. The dataset provides us with a few useful columns about weather: `temp`, `rain_1h`, `snow_1h`, `clouds_all`, `weather_main`, `weather_description`.\n",
    "\n",
    "A few of these columns are numerical so let's start by looking up their correlation values with traffic_volume."
   ]
  },
  {
   "cell_type": "markdown",
   "id": "93d8089f",
   "metadata": {},
   "source": [
    "## Instructions:\n",
    "\n",
    "* Find the correlation values between `traffic_volume` and the numerical weather columns.\n",
    "* Find the weather column with the strongest correlation with `traffic_volume` and plot a scatter plot for this weather column and `traffic_volume`.\n",
    "* Do any of these weather columns seem like reliable indicators for heavy traffic?"
   ]
  },
  {
   "cell_type": "markdown",
   "id": "909c96ff",
   "metadata": {},
   "source": [
    "remember, Pearson's r values lie between -1.00 and +1.00. when the positive correlation is perfect, the pearson's r is equal to +1.00. When the negative correlation is perfect, the pearson's r is equal to -1.00. A value of 0.0 shows no correlation"
   ]
  },
  {
   "cell_type": "markdown",
   "id": "66a089e8",
   "metadata": {},
   "source": [
    "## instructions:\n",
    "\n",
    "* Find the correlation values between traffic_volume and the numerical weather columns.\n",
    "* Find the weather column with the strongest correlation with traffic_volume and plot a scatter plot for this weather column and traffic_volume.\n",
    "* Do any of these weather columns seem like reliable indicators for heavy traffic?"
   ]
  },
  {
   "cell_type": "code",
   "execution_count": 22,
   "id": "7abd0d1b",
   "metadata": {},
   "outputs": [
    {
     "name": "stderr",
     "output_type": "stream",
     "text": [
      "C:\\Users\\PC\\AppData\\Local\\Temp\\ipykernel_368\\3421110943.py:1: FutureWarning: The default value of numeric_only in DataFrame.corr is deprecated. In a future version, it will default to False. Select only valid columns or specify the value of numeric_only to silence this warning.\n",
      "  day.corr()['traffic_volume']\n"
     ]
    },
    {
     "data": {
      "text/plain": [
       "temp              0.128317\n",
       "rain_1h           0.003697\n",
       "snow_1h           0.001265\n",
       "clouds_all       -0.032932\n",
       "traffic_volume    1.000000\n",
       "month            -0.022337\n",
       "dayofweek        -0.416453\n",
       "hour              0.172704\n",
       "Name: traffic_volume, dtype: float64"
      ]
     },
     "execution_count": 22,
     "metadata": {},
     "output_type": "execute_result"
    }
   ],
   "source": [
    "day.corr()['traffic_volume']"
   ]
  },
  {
   "cell_type": "markdown",
   "id": "3a397864",
   "metadata": {},
   "source": [
    "the weather column with the strongest corelation with `traffic_volume` is `temp`, so we are going to plot it against the `traffic_volume`"
   ]
  },
  {
   "cell_type": "code",
   "execution_count": 23,
   "id": "d8613e07",
   "metadata": {},
   "outputs": [
    {
     "data": {
      "image/png": "[encoded data removed]",
      "text/plain": [
       "<Figure size 432x288 with 1 Axes>"
      ]
     },
     "metadata": {
      "needs_background": "light"
     },
     "output_type": "display_data"
    }
   ],
   "source": [
    "day.plot.scatter(x='traffic_volume',y='temp')\n",
    "plt.ylim(220, 320);"
   ]
  },
  {
   "cell_type": "markdown",
   "id": "25a2bcff",
   "metadata": {},
   "source": [
    "from our visualization, i don't think any of these weathers are a strong indicator of heavy traffic. although temperature has the strongest correlation among other weather columns, the correlation is still very weak and unrelaible.\n",
    "\n",
    "\n",
    "To see if we can find more useful data, we'll look next at the categorical weather-related columns: `weather_main` and `weather_description`.\n",
    "\n",
    "We're going to calculate the average traffic volume associated with each unique value in these two columns. We've already calculated the values for you — we grouped the data by `weather_main` and `weather_description` while using the mean as an aggregate function."
   ]
  },
  {
   "cell_type": "markdown",
   "id": "8b26d118",
   "metadata": {},
   "source": [
    "## instructions:\n",
    "\n",
    "* Plot a horizontal bar plot for the `traffic_volume` column of `by_weather_main`.\n",
    "* Analyze the bar plot. Is there any `traffic volume` exceeding 5,000 cars? Can you find any weather type as a heavy traffic indicator?\n",
    "* Plot a horizontal bar plot for the `traffic_volume` column of by_weather_description. This column has many unique values, so you'll need to enlarge the figure size to make it readable. You can use plt.figure(figsize=(width,height)) or `Series.plot.barh(figsize=(width,height))`.\n",
    "* Analyze the bar plot. Is there any traffic volume exceeding 5,000 cars? Can you find any weather type as a heavy traffic indicator?\n",
    "* Write up your conclusions for the entire project — this was the last step."
   ]
  },
  {
   "cell_type": "code",
   "execution_count": 24,
   "id": "828c0995",
   "metadata": {},
   "outputs": [
    {
     "name": "stderr",
     "output_type": "stream",
     "text": [
      "C:\\Users\\PC\\AppData\\Local\\Temp\\ipykernel_368\\3028486907.py:1: FutureWarning: The default value of numeric_only in DataFrameGroupBy.mean is deprecated. In a future version, numeric_only will default to False. Either specify numeric_only or select only columns which should be valid for the function.\n",
      "  by_weather_main=day.groupby('weather_main').mean()\n"
     ]
    },
    {
     "data": {
      "text/plain": [
       "weather_main\n",
       "Clear           4778.416260\n",
       "Clouds          4865.415996\n",
       "Drizzle         4837.212911\n",
       "Fog             4372.491713\n",
       "Haze            4609.893285\n",
       "Mist            4623.976475\n",
       "Rain            4815.568462\n",
       "Smoke           4564.583333\n",
       "Snow            4396.321183\n",
       "Squall          4211.000000\n",
       "Thunderstorm    4648.212860\n",
       "Name: traffic_volume, dtype: float64"
      ]
     },
     "execution_count": 24,
     "metadata": {},
     "output_type": "execute_result"
    }
   ],
   "source": [
    "by_weather_main=day.groupby('weather_main').mean()\n",
    "by_weather_main['traffic_volume']"
   ]
  },
  {
   "cell_type": "code",
   "execution_count": 25,
   "id": "310324b0",
   "metadata": {},
   "outputs": [
    {
     "data": {
      "image/png": "[encoded data removed]",
      "text/plain": [
       "<Figure size 432x288 with 1 Axes>"
      ]
     },
     "metadata": {
      "needs_background": "light"
     },
     "output_type": "display_data"
    }
   ],
   "source": [
    "by_weather_main['traffic_volume'].plot.barh();"
   ]
  },
  {
   "cell_type": "code",
   "execution_count": 26,
   "id": "c1f88a0e",
   "metadata": {},
   "outputs": [
    {
     "name": "stderr",
     "output_type": "stream",
     "text": [
      "C:\\Users\\PC\\AppData\\Local\\Temp\\ipykernel_368\\2121405442.py:1: FutureWarning: The default value of numeric_only in DataFrameGroupBy.mean is deprecated. In a future version, numeric_only will default to False. Either specify numeric_only or select only columns which should be valid for the function.\n",
      "  by_weather_description=day.groupby('weather_description').mean()\n"
     ]
    },
    {
     "data": {
      "text/plain": [
       "weather_description\n",
       "SQUALLS                                4211.000000\n",
       "Sky is Clear                           4919.009390\n",
       "broken clouds                          4824.130326\n",
       "drizzle                                4737.330935\n",
       "few clouds                             4839.818023\n",
       "fog                                    4372.491713\n",
       "freezing rain                          4314.000000\n",
       "haze                                   4609.893285\n",
       "heavy intensity drizzle                4738.586207\n",
       "heavy intensity rain                   4610.356164\n",
       "heavy snow                             4411.681250\n",
       "light intensity drizzle                4890.164049\n",
       "light intensity shower rain            4558.100000\n",
       "light rain                             4859.650849\n",
       "light rain and snow                    5579.750000\n",
       "light shower snow                      4618.636364\n",
       "light snow                             4430.858896\n",
       "mist                                   4623.976475\n",
       "moderate rain                          4769.643312\n",
       "overcast clouds                        4861.124952\n",
       "proximity shower rain                  4901.756757\n",
       "proximity thunderstorm                 4684.356436\n",
       "proximity thunderstorm with drizzle    5121.833333\n",
       "proximity thunderstorm with rain       4501.611111\n",
       "scattered clouds                       4936.787712\n",
       "shower drizzle                         4932.666667\n",
       "shower snow                            5664.000000\n",
       "sky is clear                           4753.930294\n",
       "sleet                                  4312.666667\n",
       "smoke                                  4564.583333\n",
       "snow                                   4054.065693\n",
       "thunderstorm                           4724.708333\n",
       "thunderstorm with drizzle              2297.000000\n",
       "thunderstorm with heavy rain           4555.760000\n",
       "thunderstorm with light drizzle        4960.000000\n",
       "thunderstorm with light rain           4336.130435\n",
       "thunderstorm with rain                 4522.950000\n",
       "very heavy rain                        4780.571429\n",
       "Name: traffic_volume, dtype: float64"
      ]
     },
     "execution_count": 26,
     "metadata": {},
     "output_type": "execute_result"
    }
   ],
   "source": [
    "by_weather_description=day.groupby('weather_description').mean()\n",
    "by_weather_description['traffic_volume']"
   ]
  },
  {
   "cell_type": "code",
   "execution_count": 27,
   "id": "4cfdca9c",
   "metadata": {
    "scrolled": true
   },
   "outputs": [
    {
     "data": {
      "image/png": "[encoded data removed]",
      "text/plain": [
       "<Figure size 720x720 with 1 Axes>"
      ]
     },
     "metadata": {
      "needs_background": "light"
     },
     "output_type": "display_data"
    }
   ],
   "source": [
    "plt.figure(figsize = [10, 10]) \n",
    "by_weather_description['traffic_volume'].plot.barh();"
   ]
  },
  {
   "cell_type": "code",
   "execution_count": 29,
   "id": "19817393",
   "metadata": {},
   "outputs": [
    {
     "data": {
      "image/png": "[encoded data removed]",
      "text/plain": [
       "<Figure size 720x720 with 1 Axes>"
      ]
     },
     "metadata": {
      "needs_background": "light"
     },
     "output_type": "display_data"
    }
   ],
   "source": [
    "import matplotlib.pyplot as plt\n",
    "\n",
    "plt.figure(figsize=[10, 10])\n",
    "by_weather_description['traffic_volume'].plot.barh()\n",
    "plt.gca().set_ylabel('')\n",
    "plt.show()\n"
   ]
  },
  {
   "cell_type": "markdown",
   "id": "6d86e091",
   "metadata": {},
   "source": [
    "* proximity thunder storm with drizzle,shower snow, and light rain and snow seem to be indicators of heavy traffic. As we can see, there are over 5000 cars on that route per hour during those weather conditons.\n",
    "\n",
    "* generally, we can see that when there is thundrestorm, heavy rain and snowing, there are generally more traffic in that route."
   ]
  },
  {
   "cell_type": "markdown",
   "id": "19550bcd",
   "metadata": {},
   "source": [
    "## Summary\n",
    "\n",
    "we tried to find a few indicators of heavy traffic on the I-94 Interstate highway. We managed to find two types of indicators:\n",
    "\n",
    "* Time indicators\n",
    "  * The traffic is usually heavier during warm months (March–October) compared to cold months (November–February).\n",
    "  * The traffic is usually heavier on business days compared to the weekends.\n",
    "  * On business days, the rush hours are around 7 and 16.\n",
    "  \n",
    "* Weather indicators\n",
    "  * Shower snow\n",
    "  * Light rain and snow\n",
    "  * Proximity thunderstorm with drizzle\n",
    "  \n",
    "## More work to do\n",
    "Next steps include the following:\n",
    "\n",
    "* Use the nighttime data to look for heavy traffic indicators.\n",
    "* Find more time and weather indicators.\n"
   ]
  }
 ],
 "metadata": {
  "kernelspec": {
   "display_name": "Python 3 (ipykernel)",
   "language": "python",
   "name": "python3"
  },
  "language_info": {
   "codemirror_mode": {
    "name": "ipython",
    "version": 3
   },
   "file_extension": ".py",
   "mimetype": "text/x-python",
   "name": "python",
   "nbconvert_exporter": "python",
   "pygments_lexer": "ipython3",
   "version": "3.9.12"
  }
 },
 "nbformat": 4,
 "nbformat_minor": 5
}
