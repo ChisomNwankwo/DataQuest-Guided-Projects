{
 "cells": [
  {
   "cell_type": "markdown",
   "id": "5d648084",
   "metadata": {},
   "source": [
    "## Introduction\n",
    "\n",
    "In the last lesson, we learned how adding hidden layers of neurons to a neural network can improve its ability to capture nonlinearity in the data. We tested different neural networks models on a dataset that we generated with deliberate nonlinearity.\n",
    "\n",
    "In this Guided Project, we'll:\n",
    "\n",
    "* explore why image classification is a hard task\n",
    "* observe the limitations of traditional machine learning models for image classification\n",
    "* train, test, and improve a few different deep neural networks for image classification\n",
    "\n",
    "As we mentioned in the first lesson in this course, deep neural networks have been used to reach state-of-the-art performance on image classification tasks in the last decade. For some image classification tasks, deep neural networks actually perform as well as or slightly better than the human benchmark. You can read about the history of deep neural networks here.\n",
    "\n",
    "To end this course, we'll build models that can classify handwritten digits. Before the year 2000, institutions like the United States Post Office used handwriting recognition software to read addresses, zip codes, and more. One of their approaches, which consists of pre-processing handwritten images then feeding to a neural network model is detailed in this paper.\n",
    "\n",
    "Why is image classification a hard task?\n",
    "\n",
    "Within the field of machine learning and pattern recognition, image classification (especially for handwritten text) is towards the difficult end of the spectrum. There are a few reasons for this.\n",
    "\n",
    "First, each image in a training set is high dimensional. Each pixel in an image is a feature and a separate column. This means that a 128 x 128 image has 16384 features.\n",
    "\n",
    "Second, images are often downsampled to lower resolutions and transformed to grayscale (no color). This is a limitation of compute power unfortunately. The resolution of a 8 megapixel photo has 3264 by 2448 pixels, for a total of 7,990,272 features (or about 8 million). Images of this resolution are usually scaled down to between 128 and 512 pixels in either direction for significantly faster processing. This often results in a loss of detail that's available for training and pattern matching.\n",
    "\n",
    "Third, the features in an image don't have an obvious linear or nonlinear relationship that can be learned with a model like linear or logistic regression. In grayscale, each pixel is just represented as a brightness value ranging from 0 to 256.\n",
    "\n",
    "Why is deep learning effective in image classification?\n",
    "\n",
    "Deep learning is effective in image classification because of the models' ability to learn hierarchical representations. At a high level, an effective deep learning model learns intermediate representations at each layer in the model and uses them in the prediction process. Here's a diagram that visualizes what the weights represent at each layer of a convolutional neural network, a type of network that's often used in image classification and unfortunately out of scope for this course, which was trained to identify faces.\n",
    "\n",
    "You'll notice in the first hidden layer the network learned to represent edges and specific features of faces. In the second hidden layer, the weights seemed to represent higher level facial features like eyes and noses. Finally, the weights in the last hidden layer resemble faces that could be matched against. Each successive layer uses weights from previous layers to try to learn more complex representations.\n",
    "\n",
    "In this Guided Project, we'll explore the effectiveness of deep, feedforward neural networks at classifying images."
   ]
  },
  {
   "cell_type": "markdown",
   "id": "84b583a0",
   "metadata": {},
   "source": [
    "## Working with Image Data\n",
    "\n",
    "Scikit-learn contains a number of datasets pre-loaded with the library, within the namespace of `sklearn.datasets`. The `load_digits()` function returns a copy of the hand-written digits dataset from UCI.\n",
    "\n",
    "Because dataframes are a tabular representation of data, each image is represented as a row of pixel values. To visualize an image from the dataframe, we need to reshape the image back to its original dimensions (28 x 28 pixels). To visualize the image, we need to reshape these pixel values back into the 28 by 28 and plot them on a coordinate grid.\n",
    "\n",
    "To reshape the image, we need to convert a training example to a numpy array (excluding the label column) and pass the result into that into the `numpy.reshape()` function:"
   ]
  },
  {
   "cell_type": "code",
   "execution_count": 1,
   "id": "4e4b3ace",
   "metadata": {},
   "outputs": [
    {
     "ename": "NameError",
     "evalue": "name 'train' is not defined",
     "output_type": "error",
     "traceback": [
      "\u001b[1;31m---------------------------------------------------------------------------\u001b[0m",
      "\u001b[1;31mNameError\u001b[0m                                 Traceback (most recent call last)",
      "Input \u001b[1;32mIn [1]\u001b[0m, in \u001b[0;36m<cell line: 1>\u001b[1;34m()\u001b[0m\n\u001b[1;32m----> 1\u001b[0m first_image \u001b[38;5;241m=\u001b[39m \u001b[43mtrain\u001b[49m\u001b[38;5;241m.\u001b[39miloc[\u001b[38;5;241m0\u001b[39m]\n\u001b[0;32m      2\u001b[0m first_image \u001b[38;5;241m=\u001b[39m first_image\u001b[38;5;241m.\u001b[39mdrop(\u001b[38;5;124m'\u001b[39m\u001b[38;5;124mlabel\u001b[39m\u001b[38;5;124m'\u001b[39m, axis\u001b[38;5;241m=\u001b[39m\u001b[38;5;241m1\u001b[39m)\n\u001b[0;32m      3\u001b[0m np_image \u001b[38;5;241m=\u001b[39m first_image\u001b[38;5;241m.\u001b[39mvalues\n",
      "\u001b[1;31mNameError\u001b[0m: name 'train' is not defined"
     ]
    }
   ],
   "source": [
    "first_image = train.iloc[0]\n",
    "first_image = first_image.drop('label', axis=1)\n",
    "np_image = first_image.values\n",
    "np_image = np_image.reshape(28,28)"
   ]
  },
  {
   "cell_type": "markdown",
   "id": "40e7c7ba",
   "metadata": {},
   "source": [
    "Now that the data is in the right shape, we can visualize it using `pyplot.imshow()` function:"
   ]
  },
  {
   "cell_type": "code",
   "execution_count": null,
   "id": "36f52bd5",
   "metadata": {},
   "outputs": [],
   "source": [
    "plt.imshow(np_image, cmap='gray_r')"
   ]
  },
  {
   "cell_type": "markdown",
   "id": "56c718e6",
   "metadata": {},
   "source": [
    "To display multiple images in one matplotlib figure, we can use the equivalent axes.imshow() function. Let's use what we've learned to display images from both classes.\n",
    "\n",
    "### Instructions\n",
    "* Import `load_digits()` from the `sklearn.datasets` package.\n",
    "* Transform the NumPy 2D array into a pandas dataframe.\n",
    "* Use matplotlib to visualize some of the images in the dataset.\n",
    "  * Generate a scatter plot grid, with 2 rows and 4 columns.\n",
    "  * In the first row:\n",
    "    * Display the images corresponding to rows 0, 100, 200, and 300.\n",
    "  * In the second row:\n",
    "    * Display the images corresponding to rows 1000, 1100, 1200, and 1300."
   ]
  },
  {
   "cell_type": "code",
   "execution_count": 2,
   "id": "c8a179c7",
   "metadata": {},
   "outputs": [
    {
     "data": {
      "text/plain": [
       "dict_keys(['data', 'target', 'frame', 'feature_names', 'target_names', 'images', 'DESCR'])"
      ]
     },
     "execution_count": 2,
     "metadata": {},
     "output_type": "execute_result"
    }
   ],
   "source": [
    "from sklearn.datasets import load_digits\n",
    "import pandas as pd\n",
    "import numpy as np\n",
    "import matplotlib.pyplot as plt\n",
    "\n",
    "image=load_digits()\n",
    "#lets see the keys in the dict\n",
    "image.keys()"
   ]
  },
  {
   "cell_type": "code",
   "execution_count": 3,
   "id": "dea09ec9",
   "metadata": {},
   "outputs": [
    {
     "name": "stdout",
     "output_type": "stream",
     "text": [
      "(1797, 64)\n",
      "(1797,)\n"
     ]
    }
   ],
   "source": [
    "#let's create the labels and features\n",
    "\n",
    "features=pd.DataFrame(image['data'])\n",
    "labels=pd.Series(image['target'])\n",
    "\n",
    "print(features.shape)\n",
    "print(labels.shape)"
   ]
  },
  {
   "cell_type": "code",
   "execution_count": 5,
   "id": "3b3c523e",
   "metadata": {},
   "outputs": [
    {
     "ename": "ValueError",
     "evalue": "cannot reshape array of size 64 into shape (28,28)",
     "output_type": "error",
     "traceback": [
      "\u001b[1;31m---------------------------------------------------------------------------\u001b[0m",
      "\u001b[1;31mValueError\u001b[0m                                Traceback (most recent call last)",
      "Input \u001b[1;32mIn [5]\u001b[0m, in \u001b[0;36m<cell line: 3>\u001b[1;34m()\u001b[0m\n\u001b[0;32m      1\u001b[0m first_image \u001b[38;5;241m=\u001b[39mfeatures\u001b[38;5;241m.\u001b[39miloc[\u001b[38;5;241m0\u001b[39m]\n\u001b[0;32m      2\u001b[0m np_image \u001b[38;5;241m=\u001b[39m first_image\u001b[38;5;241m.\u001b[39mvalues\n\u001b[1;32m----> 3\u001b[0m np_image \u001b[38;5;241m=\u001b[39m \u001b[43mnp_image\u001b[49m\u001b[38;5;241;43m.\u001b[39;49m\u001b[43mreshape\u001b[49m\u001b[43m(\u001b[49m\u001b[38;5;241;43m28\u001b[39;49m\u001b[43m,\u001b[49m\u001b[38;5;241;43m28\u001b[39;49m\u001b[43m)\u001b[49m\n\u001b[0;32m      5\u001b[0m plt\u001b[38;5;241m.\u001b[39mimshow(np_image, cmap\u001b[38;5;241m=\u001b[39m\u001b[38;5;124m'\u001b[39m\u001b[38;5;124mgray_r\u001b[39m\u001b[38;5;124m'\u001b[39m)\n",
      "\u001b[1;31mValueError\u001b[0m: cannot reshape array of size 64 into shape (28,28)"
     ]
    }
   ],
   "source": [
    "first_image =features.iloc[0]\n",
    "np_image = first_image.values\n",
    "np_image = np_image.reshape(28,28)\n",
    "\n",
    "plt.imshow(np_image, cmap='gray_r');"
   ]
  },
  {
   "cell_type": "markdown",
   "id": "9671b999",
   "metadata": {},
   "source": [
    "since the size is 64, we are going to reshape it (8,8)"
   ]
  },
  {
   "cell_type": "code",
   "execution_count": 6,
   "id": "dd8c8409",
   "metadata": {},
   "outputs": [
    {
     "data": {
      "image/png": "[encoded data removed]",
      "text/plain": [
       "<Figure size 432x288 with 1 Axes>"
      ]
     },
     "metadata": {
      "needs_background": "light"
     },
     "output_type": "display_data"
    }
   ],
   "source": [
    "first_image =features.iloc[0]\n",
    "np_image = first_image.values\n",
    "np_image = np_image.reshape(8,8)\n",
    "\n",
    "plt.imshow(np_image, cmap='gray_r');"
   ]
  },
  {
   "cell_type": "code",
   "execution_count": 7,
   "id": "8737f838",
   "metadata": {},
   "outputs": [
    {
     "data": {
      "text/html": [
       "<div>\n",
       "<style scoped>\n",
       "    .dataframe tbody tr th:only-of-type {\n",
       "        vertical-align: middle;\n",
       "    }\n",
       "\n",
       "    .dataframe tbody tr th {\n",
       "        vertical-align: top;\n",
       "    }\n",
       "\n",
       "    .dataframe thead th {\n",
       "        text-align: right;\n",
       "    }\n",
       "</style>\n",
       "<table border=\"1\" class=\"dataframe\">\n",
       "  <thead>\n",
       "    <tr style=\"text-align: right;\">\n",
       "      <th></th>\n",
       "      <th>0</th>\n",
       "      <th>1</th>\n",
       "      <th>2</th>\n",
       "      <th>3</th>\n",
       "      <th>4</th>\n",
       "      <th>5</th>\n",
       "      <th>6</th>\n",
       "      <th>7</th>\n",
       "      <th>8</th>\n",
       "      <th>9</th>\n",
       "      <th>...</th>\n",
       "      <th>54</th>\n",
       "      <th>55</th>\n",
       "      <th>56</th>\n",
       "      <th>57</th>\n",
       "      <th>58</th>\n",
       "      <th>59</th>\n",
       "      <th>60</th>\n",
       "      <th>61</th>\n",
       "      <th>62</th>\n",
       "      <th>63</th>\n",
       "    </tr>\n",
       "  </thead>\n",
       "  <tbody>\n",
       "    <tr>\n",
       "      <th>0</th>\n",
       "      <td>0.0</td>\n",
       "      <td>0.0</td>\n",
       "      <td>5.0</td>\n",
       "      <td>13.0</td>\n",
       "      <td>9.0</td>\n",
       "      <td>1.0</td>\n",
       "      <td>0.0</td>\n",
       "      <td>0.0</td>\n",
       "      <td>0.0</td>\n",
       "      <td>0.0</td>\n",
       "      <td>...</td>\n",
       "      <td>0.0</td>\n",
       "      <td>0.0</td>\n",
       "      <td>0.0</td>\n",
       "      <td>0.0</td>\n",
       "      <td>6.0</td>\n",
       "      <td>13.0</td>\n",
       "      <td>10.0</td>\n",
       "      <td>0.0</td>\n",
       "      <td>0.0</td>\n",
       "      <td>0.0</td>\n",
       "    </tr>\n",
       "    <tr>\n",
       "      <th>100</th>\n",
       "      <td>0.0</td>\n",
       "      <td>0.0</td>\n",
       "      <td>0.0</td>\n",
       "      <td>2.0</td>\n",
       "      <td>13.0</td>\n",
       "      <td>0.0</td>\n",
       "      <td>0.0</td>\n",
       "      <td>0.0</td>\n",
       "      <td>0.0</td>\n",
       "      <td>0.0</td>\n",
       "      <td>...</td>\n",
       "      <td>0.0</td>\n",
       "      <td>0.0</td>\n",
       "      <td>0.0</td>\n",
       "      <td>0.0</td>\n",
       "      <td>0.0</td>\n",
       "      <td>0.0</td>\n",
       "      <td>13.0</td>\n",
       "      <td>6.0</td>\n",
       "      <td>0.0</td>\n",
       "      <td>0.0</td>\n",
       "    </tr>\n",
       "    <tr>\n",
       "      <th>200</th>\n",
       "      <td>0.0</td>\n",
       "      <td>0.0</td>\n",
       "      <td>0.0</td>\n",
       "      <td>0.0</td>\n",
       "      <td>11.0</td>\n",
       "      <td>12.0</td>\n",
       "      <td>0.0</td>\n",
       "      <td>0.0</td>\n",
       "      <td>0.0</td>\n",
       "      <td>0.0</td>\n",
       "      <td>...</td>\n",
       "      <td>0.0</td>\n",
       "      <td>0.0</td>\n",
       "      <td>0.0</td>\n",
       "      <td>0.0</td>\n",
       "      <td>0.0</td>\n",
       "      <td>0.0</td>\n",
       "      <td>11.0</td>\n",
       "      <td>11.0</td>\n",
       "      <td>0.0</td>\n",
       "      <td>0.0</td>\n",
       "    </tr>\n",
       "    <tr>\n",
       "      <th>300</th>\n",
       "      <td>0.0</td>\n",
       "      <td>0.0</td>\n",
       "      <td>1.0</td>\n",
       "      <td>11.0</td>\n",
       "      <td>16.0</td>\n",
       "      <td>16.0</td>\n",
       "      <td>10.0</td>\n",
       "      <td>0.0</td>\n",
       "      <td>0.0</td>\n",
       "      <td>0.0</td>\n",
       "      <td>...</td>\n",
       "      <td>0.0</td>\n",
       "      <td>0.0</td>\n",
       "      <td>0.0</td>\n",
       "      <td>0.0</td>\n",
       "      <td>0.0</td>\n",
       "      <td>13.0</td>\n",
       "      <td>3.0</td>\n",
       "      <td>0.0</td>\n",
       "      <td>0.0</td>\n",
       "      <td>0.0</td>\n",
       "    </tr>\n",
       "  </tbody>\n",
       "</table>\n",
       "<p>4 rows × 64 columns</p>\n",
       "</div>"
      ],
      "text/plain": [
       "      0    1    2     3     4     5     6    7    8    9   ...   54   55   56  \\\n",
       "0    0.0  0.0  5.0  13.0   9.0   1.0   0.0  0.0  0.0  0.0  ...  0.0  0.0  0.0   \n",
       "100  0.0  0.0  0.0   2.0  13.0   0.0   0.0  0.0  0.0  0.0  ...  0.0  0.0  0.0   \n",
       "200  0.0  0.0  0.0   0.0  11.0  12.0   0.0  0.0  0.0  0.0  ...  0.0  0.0  0.0   \n",
       "300  0.0  0.0  1.0  11.0  16.0  16.0  10.0  0.0  0.0  0.0  ...  0.0  0.0  0.0   \n",
       "\n",
       "      57   58    59    60    61   62   63  \n",
       "0    0.0  6.0  13.0  10.0   0.0  0.0  0.0  \n",
       "100  0.0  0.0   0.0  13.0   6.0  0.0  0.0  \n",
       "200  0.0  0.0   0.0  11.0  11.0  0.0  0.0  \n",
       "300  0.0  0.0  13.0   3.0   0.0  0.0  0.0  \n",
       "\n",
       "[4 rows x 64 columns]"
      ]
     },
     "execution_count": 7,
     "metadata": {},
     "output_type": "execute_result"
    }
   ],
   "source": [
    "features.iloc[[0,100,200,300]]"
   ]
  },
  {
   "cell_type": "code",
   "execution_count": 8,
   "id": "40460bcd",
   "metadata": {},
   "outputs": [
    {
     "data": {
      "text/plain": [
       "<matplotlib.image.AxesImage at 0x1f7b9907df0>"
      ]
     },
     "execution_count": 8,
     "metadata": {},
     "output_type": "execute_result"
    },
    {
     "data": {
      "image/png": "[encoded data removed]",
      "text/plain": [
       "<Figure size 432x288 with 8 Axes>"
      ]
     },
     "metadata": {
      "needs_background": "light"
     },
     "output_type": "display_data"
    }
   ],
   "source": [
    "f, axarr = plt.subplots(2, 4)\n",
    "#Display the images corresponding to rows 0, 100, 200, and 300\n",
    "axarr[0, 0].imshow(features.iloc[0].values.reshape(8,8), cmap='gray_r')\n",
    "axarr[0, 1].imshow(features.iloc[100].values.reshape(8,8), cmap='gray_r')\n",
    "axarr[0, 2].imshow(features.iloc[200].values.reshape(8,8), cmap='gray_r')\n",
    "axarr[0, 3].imshow(features.iloc[300].values.reshape(8,8), cmap='gray_r')\n",
    "\n",
    "#Display the images corresponding to rows 1000, 1100, 1200, and 1300\n",
    "axarr[1, 0].imshow(features.iloc[100].values.reshape(8,8), cmap='gray_r')\n",
    "axarr[1, 1].imshow(features.iloc[1100].values.reshape(8,8), cmap='gray_r')\n",
    "axarr[1, 2].imshow(features.iloc[1200].values.reshape(8,8), cmap='gray_r')\n",
    "axarr[1, 3].imshow(features.iloc[1300].values.reshape(8,8), cmap='gray_r')"
   ]
  },
  {
   "cell_type": "markdown",
   "id": "57dd5b8d",
   "metadata": {},
   "source": [
    "## K-Nearest Neighbors Model\n",
    "While linear and logistic regression models make assumptions about the linearity between the features and the output labels, the k-nearest neighbors algorithm make no such assumption. This allows them to capture nonlinearity in the data. If you recall, k-nearest neighbors don't have a specific model representation (hence why it's referred to as an algorithm and not a model).\n",
    "\n",
    "The k-nearest neighbors algorithm compares every unseen observation in the test set to all (or many, as some implementations constrain the search space) training observations to look for similar (or the \"nearest\") observations. Then, the algorithm finds the label with the most nearby observations and assigns that as the prediction for the unseen observation.\n",
    "\n",
    "Recall that you can use the KNeighborsClassifier package to train and test k-nearest neighbors models.\n",
    "\n",
    "### Instructions\n",
    "* Split up the data into train and test sets.\n",
    "* Setup a pipeline for testing and training k-nn models.\n",
    "  * Write a function named `train()` that uses `KNeighborsClassifer` for training k-nearest neighbors models.\n",
    "  * Write a function named `test()` that tests the model.\n",
    "  * Write a function named `cross_validate()` that performs 4-fold cross validation using `train()` and `test()`.\n",
    "* Experiment with different values for k and plot the resulting classification accuracies."
   ]
  },
  {
   "cell_type": "code",
   "execution_count": 9,
   "id": "103b2590",
   "metadata": {},
   "outputs": [
    {
     "data": {
      "text/plain": [
       "0.9821912892848305"
      ]
     },
     "execution_count": 9,
     "metadata": {},
     "output_type": "execute_result"
    }
   ],
   "source": [
    "from sklearn.neighbors import KNeighborsClassifier\n",
    "from sklearn.model_selection import train_test_split\n",
    "from sklearn.model_selection import KFold, cross_val_score\n",
    "from sklearn.metrics import accuracy_score\n",
    "\n",
    "#split the data into train and test datset\n",
    "X = features\n",
    "y = labels\n",
    "\n",
    "X_train,y_train,X_test,y_test =  train_test_split(X, y, test_size = 0.2)\n",
    "\n",
    "def train(n_neighbors,X_train,y_train):\n",
    "    knn = KNeighborsClassifier(n_neighbors=n_neighbors)\n",
    "    knn.fit(X_train, y_train)\n",
    "    return knn\n",
    "       \n",
    "def test(model,X_test,y_test):\n",
    "    test_pred = model.predict(X_test)\n",
    "    test_accuracy = accuracy_score(test_pred,y_test)\n",
    "    return test_accuracy\n",
    "\n",
    "\n",
    "def cross_validate(k):\n",
    "    accuracy_scores = []\n",
    "    kfold_val = KFold(n_splits=4, random_state=2, shuffle=True)\n",
    "    for train_index,test_index in kfold_val.split(X):\n",
    "        X_train , X_test = X.loc[train_index], X.loc[test_index]\n",
    "        y_train , y_test = y.loc[train_index] , y.loc[test_index]\n",
    "        model = train(k,X_train,y_train)\n",
    "        accuracy = test(model,X_test,y_test)\n",
    "        accuracy_scores.append(accuracy)\n",
    "    return accuracy_scores\n",
    "\n",
    "\n",
    "\n",
    "        \n",
    "knn_accuracies = cross_validate(2)\n",
    "np.mean(knn_accuracies)"
   ]
  },
  {
   "cell_type": "markdown",
   "id": "2e1dee20",
   "metadata": {},
   "source": [
    " Experiment with different values for k and plot the resulting classification accuracies."
   ]
  },
  {
   "cell_type": "code",
   "execution_count": 10,
   "id": "a7a823f4",
   "metadata": {},
   "outputs": [
    {
     "data": {
      "text/plain": [
       "[<matplotlib.lines.Line2D at 0x1f7ba43c8e0>]"
      ]
     },
     "execution_count": 10,
     "metadata": {},
     "output_type": "execute_result"
    },
    {
     "data": {
      "image/png": "[encoded data removed]",
      "text/plain": [
       "<Figure size 720x360 with 1 Axes>"
      ]
     },
     "metadata": {
      "needs_background": "light"
     },
     "output_type": "display_data"
    }
   ],
   "source": [
    "k_values = list(range(1,10))\n",
    "k_overall_accuracies = []\n",
    "\n",
    "for i in k_values:\n",
    "    knn_accuracies = cross_validate(i)\n",
    "    k_overall_accuracies.append(np.mean(knn_accuracies))\n",
    "\n",
    "plt.figure(figsize=(10,5))\n",
    "plt.plot(k_values,k_overall_accuracies)"
   ]
  },
  {
   "cell_type": "markdown",
   "id": "cc6e884f",
   "metadata": {},
   "source": [
    "There are a few downsides to using k-nearest neighbors:\n",
    "\n",
    "high memory usage (for each new unseen observation, many comparisons need to be made to seen observations)\n",
    "no model representation to debug and explore\n",
    "Let's now try a neural network with a single hidden layer. Use the MLPClassifier package from scikit-learn. "
   ]
  },
  {
   "cell_type": "markdown",
   "id": "a6b565cb",
   "metadata": {},
   "source": [
    "### Instructions\n",
    "\n",
    "* Using 4-fold cross validation:\n",
    "\n",
    "  * Train and test a neural network model using a single hidden layer of 8 neurons.\n",
    "  * Train and test a neural network model using a single hidden layer of 16 neurons.\n",
    "  * Train and test a neural network model using a single hidden layer of 32 neurons.\n",
    "  * Train and test a neural network model using a single hidden layer of 64 neurons.\n",
    "  * Train and test a neural network model using a single hidden layer of 128 neurons.\n",
    "  * Train and test a neural network model using a single hidden layer of 256 neurons.\n",
    "\n",
    "* Create a new Markdown cell summarizing what you saw.\n",
    "\n",
    "  * Rank the performance of the models by the overall accuracies.\n",
    "  * Which models, if any, start to overfit?\n",
    "\n",
    "    * For each model, you could compute and visualize the performance for both the train and test sets to understand how they diverged. Models that overfit tend to perform well on the train set but poorly on the test set."
   ]
  },
  {
   "cell_type": "code",
   "execution_count": 22,
   "id": "6b9e9680",
   "metadata": {},
   "outputs": [
    {
     "name": "stderr",
     "output_type": "stream",
     "text": [
      "C:\\Users\\PC\\anaconda3\\lib\\site-packages\\sklearn\\neural_network\\_multilayer_perceptron.py:692: ConvergenceWarning: Stochastic Optimizer: Maximum iterations (200) reached and the optimization hasn't converged yet.\n",
      "  warnings.warn(\n",
      "C:\\Users\\PC\\anaconda3\\lib\\site-packages\\sklearn\\neural_network\\_multilayer_perceptron.py:692: ConvergenceWarning: Stochastic Optimizer: Maximum iterations (200) reached and the optimization hasn't converged yet.\n",
      "  warnings.warn(\n",
      "C:\\Users\\PC\\anaconda3\\lib\\site-packages\\sklearn\\neural_network\\_multilayer_perceptron.py:692: ConvergenceWarning: Stochastic Optimizer: Maximum iterations (200) reached and the optimization hasn't converged yet.\n",
      "  warnings.warn(\n",
      "C:\\Users\\PC\\anaconda3\\lib\\site-packages\\sklearn\\neural_network\\_multilayer_perceptron.py:692: ConvergenceWarning: Stochastic Optimizer: Maximum iterations (200) reached and the optimization hasn't converged yet.\n",
      "  warnings.warn(\n"
     ]
    },
    {
     "data": {
      "text/plain": [
       "0.8837564959168522"
      ]
     },
     "execution_count": 22,
     "metadata": {},
     "output_type": "execute_result"
    }
   ],
   "source": [
    "from sklearn.neural_network import MLPClassifier\n",
    "\n",
    "\n",
    "def nn_train(neuron,X_train,y_train):\n",
    "    mlp = MLPClassifier(hidden_layer_sizes=(neuron,))\n",
    "    mlp.fit(X_train,y_train)\n",
    "    return mlp\n",
    "       \n",
    "def nn_test(model,X_test,y_test):\n",
    "    pred = model.predict(X_test)\n",
    "    accuracy = accuracy_score(pred,y_test)\n",
    "    return accuracy\n",
    "\n",
    "\n",
    "def nn_cross_validate(neuron):\n",
    "    accuracies = []\n",
    "    kfold_val = KFold(n_splits=4, random_state=2, shuffle=True)\n",
    "    for train_index,test_index in kfold_val.split(X):\n",
    "        X_train , X_test = X.loc[train_index], X.loc[test_index]\n",
    "        y_train , y_test = y.loc[train_index] , y.loc[test_index]\n",
    "        model = nn_train(neuron,X_train,y_train)\n",
    "        accuracy =nn_test(model,X_test,y_test)\n",
    "        accuracies.append(accuracy)\n",
    "    return accuracies\n",
    "\n",
    "np.mean(nn_cross_validate(8))"
   ]
  },
  {
   "cell_type": "code",
   "execution_count": 25,
   "id": "2abef818",
   "metadata": {},
   "outputs": [
    {
     "name": "stderr",
     "output_type": "stream",
     "text": [
      "C:\\Users\\PC\\anaconda3\\lib\\site-packages\\sklearn\\neural_network\\_multilayer_perceptron.py:692: ConvergenceWarning: Stochastic Optimizer: Maximum iterations (200) reached and the optimization hasn't converged yet.\n",
      "  warnings.warn(\n",
      "C:\\Users\\PC\\anaconda3\\lib\\site-packages\\sklearn\\neural_network\\_multilayer_perceptron.py:692: ConvergenceWarning: Stochastic Optimizer: Maximum iterations (200) reached and the optimization hasn't converged yet.\n",
      "  warnings.warn(\n",
      "C:\\Users\\PC\\anaconda3\\lib\\site-packages\\sklearn\\neural_network\\_multilayer_perceptron.py:692: ConvergenceWarning: Stochastic Optimizer: Maximum iterations (200) reached and the optimization hasn't converged yet.\n",
      "  warnings.warn(\n",
      "C:\\Users\\PC\\anaconda3\\lib\\site-packages\\sklearn\\neural_network\\_multilayer_perceptron.py:692: ConvergenceWarning: Stochastic Optimizer: Maximum iterations (200) reached and the optimization hasn't converged yet.\n",
      "  warnings.warn(\n"
     ]
    },
    {
     "name": "stdout",
     "output_type": "stream",
     "text": [
      "the accuracy of 8 neuron is 0.9076095025983668\n"
     ]
    },
    {
     "name": "stderr",
     "output_type": "stream",
     "text": [
      "C:\\Users\\PC\\anaconda3\\lib\\site-packages\\sklearn\\neural_network\\_multilayer_perceptron.py:692: ConvergenceWarning: Stochastic Optimizer: Maximum iterations (200) reached and the optimization hasn't converged yet.\n",
      "  warnings.warn(\n",
      "C:\\Users\\PC\\anaconda3\\lib\\site-packages\\sklearn\\neural_network\\_multilayer_perceptron.py:692: ConvergenceWarning: Stochastic Optimizer: Maximum iterations (200) reached and the optimization hasn't converged yet.\n",
      "  warnings.warn(\n",
      "C:\\Users\\PC\\anaconda3\\lib\\site-packages\\sklearn\\neural_network\\_multilayer_perceptron.py:692: ConvergenceWarning: Stochastic Optimizer: Maximum iterations (200) reached and the optimization hasn't converged yet.\n",
      "  warnings.warn(\n",
      "C:\\Users\\PC\\anaconda3\\lib\\site-packages\\sklearn\\neural_network\\_multilayer_perceptron.py:692: ConvergenceWarning: Stochastic Optimizer: Maximum iterations (200) reached and the optimization hasn't converged yet.\n",
      "  warnings.warn(\n"
     ]
    },
    {
     "name": "stdout",
     "output_type": "stream",
     "text": [
      "the accuracy of 16 neuron is 0.9493664934422174\n"
     ]
    },
    {
     "name": "stderr",
     "output_type": "stream",
     "text": [
      "C:\\Users\\PC\\anaconda3\\lib\\site-packages\\sklearn\\neural_network\\_multilayer_perceptron.py:692: ConvergenceWarning: Stochastic Optimizer: Maximum iterations (200) reached and the optimization hasn't converged yet.\n",
      "  warnings.warn(\n",
      "C:\\Users\\PC\\anaconda3\\lib\\site-packages\\sklearn\\neural_network\\_multilayer_perceptron.py:692: ConvergenceWarning: Stochastic Optimizer: Maximum iterations (200) reached and the optimization hasn't converged yet.\n",
      "  warnings.warn(\n",
      "C:\\Users\\PC\\anaconda3\\lib\\site-packages\\sklearn\\neural_network\\_multilayer_perceptron.py:692: ConvergenceWarning: Stochastic Optimizer: Maximum iterations (200) reached and the optimization hasn't converged yet.\n",
      "  warnings.warn(\n",
      "C:\\Users\\PC\\anaconda3\\lib\\site-packages\\sklearn\\neural_network\\_multilayer_perceptron.py:692: ConvergenceWarning: Stochastic Optimizer: Maximum iterations (200) reached and the optimization hasn't converged yet.\n",
      "  warnings.warn(\n"
     ]
    },
    {
     "name": "stdout",
     "output_type": "stream",
     "text": [
      "the accuracy of 32 neuron is 0.9627159119029942\n",
      "the accuracy of 64 neuron is 0.966066567681267\n",
      "the accuracy of 128 neuron is 0.9710690423162583\n",
      "the accuracy of 256 neuron is 0.9782999257609503\n"
     ]
    },
    {
     "data": {
      "text/plain": [
       "Text(0.5, 1.0, 'Mean Accuracy vs Single layered neuron')"
      ]
     },
     "execution_count": 25,
     "metadata": {},
     "output_type": "execute_result"
    },
    {
     "data": {
      "image/png": "[encoded data removed]",
      "text/plain": [
       "<Figure size 1440x1080 with 1 Axes>"
      ]
     },
     "metadata": {
      "needs_background": "light"
     },
     "output_type": "display_data"
    }
   ],
   "source": [
    "neurons=[8,16,32,64,128,256]\n",
    "accuracy_list = []\n",
    "for neuron in neurons:\n",
    "    accuracy = nn_cross_validate(neuron)\n",
    "    accuracy_list.append(np.mean(accuracy))\n",
    "    print('the accuracy of {} neuron is {}'.format(neuron,np.mean(accuracy)))\n",
    "    \n",
    "plt.figure(figsize=(20,15))\n",
    "plt.plot(neurons,accuracy_list)\n",
    "plt.title('Mean Accuracy vs Single layered neuron')"
   ]
  },
  {
   "cell_type": "markdown",
   "id": "2914d4ed",
   "metadata": {},
   "source": [
    "As the neuron increaed, the model accuracy increased to approximately 97%. There doesn't seem to be much advantage of using the hidden single layered neuron because we achieved an accuracy of 98% using a simple KNN model\n",
    "\n",
    "\n",
    "## Neural Network With Two Hidden Layers\n",
    "Adding more neurons to a single hidden layer vastly improved the classification accuracy.\n",
    "\n",
    "Let's try using two hidden layers and continue to increase the number of neurons in each layer.\n",
    "\n",
    "### Instructions\n",
    "* Modify the neural network training pipeline to use 2 hidden layers instead in the network.\n",
    "* Using 4-fold cross validation:\n",
    "  * Train a neural network model using 2 hidden layers:\n",
    "    * 64 neurons in the first hidden layer.\n",
    "    * 64 neurons in the second hidden layer.\n",
    "\n",
    "Create a new Markdown cell summarizing what you saw.\n",
    "\n",
    "* Rank the performance of the models by the overall accuracies.\n",
    "* Which models, if any, start to overfit?\n",
    "  * For each model, you could compute and visualize the performance for both the train and test sets to understand how they diverged. Models that overfit tend to perform well on the train set but poorly on the test set."
   ]
  },
  {
   "cell_type": "code",
   "execution_count": 44,
   "id": "631aa1c6",
   "metadata": {},
   "outputs": [
    {
     "data": {
      "text/plain": [
       "0.9783061123484287"
      ]
     },
     "execution_count": 44,
     "metadata": {},
     "output_type": "execute_result"
    }
   ],
   "source": [
    "def dn_train(n1,n2,X_train,y_train):\n",
    "    mlp = MLPClassifier(hidden_layer_sizes=(n1,n2))\n",
    "    mlp.fit(X_train,y_train)\n",
    "    return mlp\n",
    "       \n",
    "def dn_test(model,X_test,y_test):\n",
    "    pred = model.predict(X_test)\n",
    "    accuracy = accuracy_score(pred,y_test)\n",
    "    return accuracy\n",
    "\n",
    "\n",
    "def dn_cross_validate(n1,n2):\n",
    "    dn_accuracy = []\n",
    "    kfold_val = KFold(n_splits=4, random_state=2, shuffle=True)\n",
    "    for train_index,test_index in kfold_val.split(X):\n",
    "        X_train , X_test = X.loc[train_index], X.loc[test_index]\n",
    "        y_train , y_test = y.loc[train_index] , y.loc[test_index]\n",
    "        model = dn_train(n1,n2,X_train,y_train)\n",
    "        accuracy =dn_test(model,X_test,y_test)\n",
    "        dn_accuracy.append(accuracy)\n",
    "    return dn_accuracy\n",
    "\n",
    "np.mean(dn_cross_validate(128,128))"
   ]
  },
  {
   "cell_type": "code",
   "execution_count": 50,
   "id": "f6dae9a6",
   "metadata": {},
   "outputs": [
    {
     "name": "stderr",
     "output_type": "stream",
     "text": [
      "C:\\Users\\PC\\anaconda3\\lib\\site-packages\\sklearn\\neural_network\\_multilayer_perceptron.py:692: ConvergenceWarning: Stochastic Optimizer: Maximum iterations (200) reached and the optimization hasn't converged yet.\n",
      "  warnings.warn(\n",
      "C:\\Users\\PC\\anaconda3\\lib\\site-packages\\sklearn\\neural_network\\_multilayer_perceptron.py:692: ConvergenceWarning: Stochastic Optimizer: Maximum iterations (200) reached and the optimization hasn't converged yet.\n",
      "  warnings.warn(\n",
      "C:\\Users\\PC\\anaconda3\\lib\\site-packages\\sklearn\\neural_network\\_multilayer_perceptron.py:692: ConvergenceWarning: Stochastic Optimizer: Maximum iterations (200) reached and the optimization hasn't converged yet.\n",
      "  warnings.warn(\n",
      "C:\\Users\\PC\\anaconda3\\lib\\site-packages\\sklearn\\neural_network\\_multilayer_perceptron.py:692: ConvergenceWarning: Stochastic Optimizer: Maximum iterations (200) reached and the optimization hasn't converged yet.\n",
      "  warnings.warn(\n"
     ]
    },
    {
     "name": "stdout",
     "output_type": "stream",
     "text": [
      "the accuracy of (8, 8) neuron is 0.9003872803761445\n"
     ]
    },
    {
     "name": "stderr",
     "output_type": "stream",
     "text": [
      "C:\\Users\\PC\\anaconda3\\lib\\site-packages\\sklearn\\neural_network\\_multilayer_perceptron.py:692: ConvergenceWarning: Stochastic Optimizer: Maximum iterations (200) reached and the optimization hasn't converged yet.\n",
      "  warnings.warn(\n",
      "C:\\Users\\PC\\anaconda3\\lib\\site-packages\\sklearn\\neural_network\\_multilayer_perceptron.py:692: ConvergenceWarning: Stochastic Optimizer: Maximum iterations (200) reached and the optimization hasn't converged yet.\n",
      "  warnings.warn(\n",
      "C:\\Users\\PC\\anaconda3\\lib\\site-packages\\sklearn\\neural_network\\_multilayer_perceptron.py:692: ConvergenceWarning: Stochastic Optimizer: Maximum iterations (200) reached and the optimization hasn't converged yet.\n",
      "  warnings.warn(\n",
      "C:\\Users\\PC\\anaconda3\\lib\\site-packages\\sklearn\\neural_network\\_multilayer_perceptron.py:692: ConvergenceWarning: Stochastic Optimizer: Maximum iterations (200) reached and the optimization hasn't converged yet.\n",
      "  warnings.warn(\n"
     ]
    },
    {
     "name": "stdout",
     "output_type": "stream",
     "text": [
      "the accuracy of (16, 16) neuron is 0.9493652561247216\n",
      "the accuracy of (32, 32) neuron is 0.9660603810937887\n",
      "the accuracy of (64, 64) neuron is 0.9721863400148477\n",
      "the accuracy of (128, 128) neuron is 0.9755233853006681\n",
      "the accuracy of (256, 256) neuron is 0.9805320465231379\n"
     ]
    }
   ],
   "source": [
    "neuron_list=[(8,8), (16,16), (32,32), (64,64), (128,128), (256,256)]\n",
    "nn_two_accuracies = []\n",
    "\n",
    "for n1,n2 in neuron_list:\n",
    "    accuracy = dn_cross_validate(n1,n2)\n",
    "    nn_two_accuracies.append(np.mean(accuracy))\n",
    "    print('the accuracy of {} neuron is {}'.format((n1,n2),np.mean(accuracy)))"
   ]
  },
  {
   "cell_type": "code",
   "execution_count": 67,
   "id": "da2e1123",
   "metadata": {},
   "outputs": [
    {
     "data": {
      "text/plain": [
       "Text(0.5, 1.0, 'Mean Accuracy vs two layered neuron')"
      ]
     },
     "execution_count": 67,
     "metadata": {},
     "output_type": "execute_result"
    },
    {
     "data": {
      "image/png": "[encoded data removed]",
      "text/plain": [
       "<Figure size 1440x1080 with 1 Axes>"
      ]
     },
     "metadata": {
      "needs_background": "light"
     },
     "output_type": "display_data"
    }
   ],
   "source": [
    "plt.figure(figsize=(20,15))\n",
    "plt.plot([i[0] for i in neuron_list],nn_two_accuracies)\n",
    "plt.title('Mean Accuracy vs two layered neuron')"
   ]
  },
  {
   "cell_type": "markdown",
   "id": "a814a73b",
   "metadata": {},
   "source": [
    "There is no much difference in the output gotten from two hidden layer neurone versus the single layered neuron."
   ]
  },
  {
   "cell_type": "markdown",
   "id": "3c6610c5",
   "metadata": {},
   "source": [
    "## Neural Network With Three Hidden Layers\n",
    "Using more hidden layers is known to increase the amount of overfitting that happens. To help us prevent overfitting, let's increase the number of folds we use for k-fold cross validation to 6 while testing networks with 3 hidden layers.\n",
    "\n",
    "### Instructions\n",
    "* Modify the neural network training pipeline to use 6 fold cross validation instead.\n",
    "* Train a neural network model using 3 hidden layers:\n",
    "  * 10 neurons in the first hidden layer.\n",
    "  * 10 neurons in the second hidden layer.\n",
    "  * 10 neurons in the third hidden layer.\n",
    "* Train a neural network model using 3 hidden layers:\n",
    "  * 64 neurons in the first hidden layer.\n",
    "  * 64 neurons in the second hidden layer.\n",
    "  * 64 neurons in the third hidden layer.\n",
    "* Train a neural network model using 3 hidden layers:\n",
    "  * 128 neurons in the first hidden layer.\n",
    "  * 128 neurons in the second hidden layer.\n",
    "  * 128 neurons in the third hidden layer.\n",
    "\n",
    "Create a new Markdown cell summarizing what you saw.\n",
    "\n",
    "* Rank the performance of the models by the overall accuracies.\n",
    "* Which models, if any, start to overfit?\n",
    "* For each model, you could compute and visualize the performance for both the train and test sets to understand how they diverged. Models that overfit tend to perform well on the train set but poorly on the test set."
   ]
  },
  {
   "cell_type": "code",
   "execution_count": 68,
   "id": "8e1878ea",
   "metadata": {},
   "outputs": [],
   "source": [
    "def tn_train(n1,n2,n3,X_train,y_train):\n",
    "    mlp = MLPClassifier(hidden_layer_sizes=(n1,n2))\n",
    "    mlp.fit(X_train,y_train)\n",
    "    return mlp\n",
    "       \n",
    "def tn_test(model,X_test,y_test):\n",
    "    pred = model.predict(X_test)\n",
    "    accuracy = accuracy_score(pred,y_test)\n",
    "    return accuracy\n",
    "\n",
    "\n",
    "def tn_cross_validate(n1,n2,n3):\n",
    "    tn_accuracy = []\n",
    "    kfold_val = KFold(n_splits=6, random_state=2, shuffle=True)\n",
    "    for train_index,test_index in kfold_val.split(X):\n",
    "        X_train , X_test = X.loc[train_index], X.loc[test_index]\n",
    "        y_train , y_test = y.loc[train_index] , y.loc[test_index]\n",
    "        model = tn_train(n1,n2,n3,X_train,y_train)\n",
    "        accuracy =tn_test(model,X_test,y_test)\n",
    "        tn_accuracy.append(accuracy)\n",
    "    return tn_accuracy"
   ]
  },
  {
   "cell_type": "code",
   "execution_count": 69,
   "id": "54983d4b",
   "metadata": {},
   "outputs": [
    {
     "name": "stderr",
     "output_type": "stream",
     "text": [
      "C:\\Users\\PC\\anaconda3\\lib\\site-packages\\sklearn\\neural_network\\_multilayer_perceptron.py:692: ConvergenceWarning: Stochastic Optimizer: Maximum iterations (200) reached and the optimization hasn't converged yet.\n",
      "  warnings.warn(\n",
      "C:\\Users\\PC\\anaconda3\\lib\\site-packages\\sklearn\\neural_network\\_multilayer_perceptron.py:692: ConvergenceWarning: Stochastic Optimizer: Maximum iterations (200) reached and the optimization hasn't converged yet.\n",
      "  warnings.warn(\n",
      "C:\\Users\\PC\\anaconda3\\lib\\site-packages\\sklearn\\neural_network\\_multilayer_perceptron.py:692: ConvergenceWarning: Stochastic Optimizer: Maximum iterations (200) reached and the optimization hasn't converged yet.\n",
      "  warnings.warn(\n",
      "C:\\Users\\PC\\anaconda3\\lib\\site-packages\\sklearn\\neural_network\\_multilayer_perceptron.py:692: ConvergenceWarning: Stochastic Optimizer: Maximum iterations (200) reached and the optimization hasn't converged yet.\n",
      "  warnings.warn(\n",
      "C:\\Users\\PC\\anaconda3\\lib\\site-packages\\sklearn\\neural_network\\_multilayer_perceptron.py:692: ConvergenceWarning: Stochastic Optimizer: Maximum iterations (200) reached and the optimization hasn't converged yet.\n",
      "  warnings.warn(\n",
      "C:\\Users\\PC\\anaconda3\\lib\\site-packages\\sklearn\\neural_network\\_multilayer_perceptron.py:692: ConvergenceWarning: Stochastic Optimizer: Maximum iterations (200) reached and the optimization hasn't converged yet.\n",
      "  warnings.warn(\n"
     ]
    },
    {
     "name": "stdout",
     "output_type": "stream",
     "text": [
      "the accuracy of (10, 10, 10) neuron is 0.9287885544407284\n",
      "the accuracy of (64, 64, 64) neuron is 0.9738573021181717\n",
      "the accuracy of (128, 128, 128) neuron is 0.978307320698625\n"
     ]
    }
   ],
   "source": [
    "neuron_three=[(10,10,10), (64,64,64), (128,128,128)]\n",
    "nn_three_accuracies = []\n",
    "\n",
    "for n1,n2,n3 in neuron_three:\n",
    "    accuracy = tn_cross_validate(n1,n2,n3)\n",
    "    nn_three_accuracies.append(np.mean(accuracy))\n",
    "    print('the accuracy of {} neuron is {}'.format((n1,n2,n3),np.mean(accuracy)))"
   ]
  },
  {
   "cell_type": "code",
   "execution_count": 70,
   "id": "59ccd564",
   "metadata": {},
   "outputs": [
    {
     "data": {
      "text/plain": [
       "Text(0.5, 1.0, 'Mean Accuracy vs three layered neuron')"
      ]
     },
     "execution_count": 70,
     "metadata": {},
     "output_type": "execute_result"
    },
    {
     "data": {
      "image/png": "[encoded data removed]",
      "text/plain": [
       "<Figure size 1440x1080 with 1 Axes>"
      ]
     },
     "metadata": {
      "needs_background": "light"
     },
     "output_type": "display_data"
    }
   ],
   "source": [
    "plt.figure(figsize=(20,15))\n",
    "plt.plot([i[0] for i in neuron_three],nn_three_accuracies)\n",
    "plt.title('Mean Accuracy vs three layered neuron')"
   ]
  },
  {
   "cell_type": "markdown",
   "id": "41b9283e",
   "metadata": {},
   "source": [
    "the accuracy of model with three hidden layers of neurons still rotates around 97.8%. It looks like there is no effect of modelling using hidden layers on this dataset, as the simple KNN model still performed the best amongst the four models"
   ]
  },
  {
   "cell_type": "markdown",
   "id": "01c86e4d",
   "metadata": {},
   "source": [
    "## Next Steps\n",
    "In this guided project, you experimented with different models to classify handwritten digits. That's it for the guided steps.\n",
    "\n",
    "Here are some next steps to try:\n",
    "\n",
    "* Use the existing pipeline you've built to try other machine learning models:\n",
    "  * Decision Tree Models\n",
    "  * Random Forest Models\n",
    "\n",
    "* Write up a summary of the effectiveness of the different models you tried, with data to back up your conclusions.\n",
    "* Experiment with different activation functions to see if the accuracies improve.\n",
    "* Research some techniques for visualizing weights in neural network models and add a visualization step to your pipeline.\n",
    "  * Visualization of MLP Weights on MNIST\n",
    "\n",
    "Curious to see what other students have done on this project? Head over to our Community to check them out. While you are there, please remember to show some love and give your own feedback!\n",
    "\n",
    "And of course, we welcome you to share your own project and show off your hard work. Head over to our Community to share your finished Guided Project!\n",
    "\n",
    "In future courses, we'd like to dive deeper into:\n",
    "\n",
    "* Image classification and computer vision\n",
    "* Higher performance tools for neural networks (like Tensorflow or PyTorch)\n",
    "* Different neural network architectures (like Convolutional Neural Networks"
   ]
  },
  {
   "cell_type": "markdown",
   "id": "51956773",
   "metadata": {},
   "source": [
    "# Using Decision Tree Classification"
   ]
  },
  {
   "cell_type": "code",
   "execution_count": 75,
   "id": "1f83cc16",
   "metadata": {},
   "outputs": [],
   "source": [
    "from sklearn.tree import DecisionTreeClassifier\n",
    "from sklearn.ensemble import RandomForestClassifier\n",
    "from sklearn.model_selection import KFold, cross_val_score"
   ]
  },
  {
   "cell_type": "code",
   "execution_count": 85,
   "id": "f8c9c955",
   "metadata": {},
   "outputs": [],
   "source": [
    "shuffled_index = np.random.permutation(features.index)\n",
    "shuffled_data = features.loc[shuffled_index]\n",
    "shuffled_labels = labels.loc[shuffled_index]\n",
    "mid_length = int(len(shuffled_data)/2)\n",
    "train_features = shuffled_data.iloc[0:mid_length]\n",
    "test_features = shuffled_data.iloc[mid_length:len(shuffled_data)]\n",
    "train_labels = shuffled_labels.iloc[0:mid_length]\n",
    "test_labels = shuffled_labels.iloc[mid_length: len(labels)]\n",
    "\n",
    "X_train=train_features\n",
    "X_test=test_features\n",
    "y_train=train_labels\n",
    "y_test=test_labels"
   ]
  },
  {
   "cell_type": "code",
   "execution_count": 90,
   "id": "e9848440",
   "metadata": {},
   "outputs": [
    {
     "data": {
      "text/plain": [
       "0.8375973303670745"
      ]
     },
     "execution_count": 90,
     "metadata": {},
     "output_type": "execute_result"
    }
   ],
   "source": [
    "def tree_train(X_train,y_train):\n",
    "    tree = DecisionTreeClassifier(random_state=42)\n",
    "    tree.fit(X_train, y_train)\n",
    "    return tree\n",
    "       \n",
    "def tree_test(model,X_test,y_test):\n",
    "    tree_pred = model.predict(X_test)\n",
    "    tree_accuracy = accuracy_score(tree_pred,y_test)\n",
    "    return tree_accuracy\n",
    "\n",
    "\n",
    "model=tree_train(X_train,y_train)\n",
    "tree_test(model,X_test,y_test)"
   ]
  },
  {
   "cell_type": "markdown",
   "id": "e7038ce8",
   "metadata": {},
   "source": [
    "## Single layered neuron model"
   ]
  },
  {
   "cell_type": "code",
   "execution_count": null,
   "id": "6c1596ab",
   "metadata": {},
   "outputs": [],
   "source": [
    "tree_values = list(range(1,10))\n",
    "tree_overall_accuracies = []\n",
    "\n",
    "for i in tree_values:\n",
    "    tree_accuracies = tree_cross_validate(i)\n",
    "    tree_overall_accuracies.append(np.mean(tree_accuracies))\n",
    "    print('the accuracy of {} neuron is {}'.format((i),np.mean(tree_overall_accuracies)))\n",
    "    \n",
    "\n",
    "plt.figure(figsize=(10,5))\n",
    "plt.plot(k_values,k_overall_accuracies)"
   ]
  },
  {
   "cell_type": "code",
   "execution_count": null,
   "id": "a3d9fde5",
   "metadata": {},
   "outputs": [],
   "source": []
  },
  {
   "cell_type": "code",
   "execution_count": null,
   "id": "fb718281",
   "metadata": {},
   "outputs": [],
   "source": []
  },
  {
   "cell_type": "code",
   "execution_count": null,
   "id": "dace0e87",
   "metadata": {},
   "outputs": [],
   "source": []
  },
  {
   "cell_type": "code",
   "execution_count": null,
   "id": "072ff3c7",
   "metadata": {},
   "outputs": [],
   "source": []
  },
  {
   "cell_type": "code",
   "execution_count": null,
   "id": "d59bc97d",
   "metadata": {},
   "outputs": [],
   "source": []
  },
  {
   "cell_type": "code",
   "execution_count": null,
   "id": "b62bdbd4",
   "metadata": {},
   "outputs": [],
   "source": []
  }
 ],
 "metadata": {
  "kernelspec": {
   "display_name": "Python 3 (ipykernel)",
   "language": "python",
   "name": "python3"
  },
  "language_info": {
   "codemirror_mode": {
    "name": "ipython",
    "version": 3
   },
   "file_extension": ".py",
   "mimetype": "text/x-python",
   "name": "python",
   "nbconvert_exporter": "python",
   "pygments_lexer": "ipython3",
   "version": "3.9.12"
  }
 },
 "nbformat": 4,
 "nbformat_minor": 5
}
